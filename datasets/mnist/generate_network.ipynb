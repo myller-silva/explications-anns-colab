{
 "cells": [
  {
   "cell_type": "code",
   "execution_count": 36,
   "metadata": {},
   "outputs": [],
   "source": [
    "# base_path = './'"
   ]
  },
  {
   "cell_type": "code",
   "execution_count": 37,
   "metadata": {},
   "outputs": [],
   "source": [
    "import pandas as pd\n",
    "from time import time\n",
    "import tensorflow as tf\n",
    "import os"
   ]
  },
  {
   "cell_type": "code",
   "execution_count": 38,
   "metadata": {},
   "outputs": [],
   "source": [
    "def gerar_rede(num_classes: int, n_neurons: int, n_hidden_layers: int):\n",
    "    dir_path = os.getcwd()\n",
    "    file_data_train = os.path.join(dir_path, \"mnist_train.csv\")\n",
    "    file_data_test = os.path.join(dir_path, \"mnist_test.csv\")\n",
    "    \n",
    "    data_train = pd.read_csv(file_data_train).to_numpy()\n",
    "    data_test = pd.read_csv(file_data_test).to_numpy()\n",
    "\n",
    "    x_train, y_train = data_train[:, :-1], data_train[:, -1]\n",
    "    x_test, y_test = data_test[:, :-1], data_test[:, -1]\n",
    "\n",
    "    y_train_ohe = tf.keras.utils.to_categorical(\n",
    "        y_train, num_classes=num_classes)\n",
    "    y_test_ohe = tf.keras.utils.to_categorical(y_test, num_classes=num_classes)\n",
    "\n",
    "    model = tf.keras.Sequential(\n",
    "        [\n",
    "            tf.keras.layers.Input(shape=[x_train.shape[1]]),\n",
    "        ]\n",
    "    )\n",
    "\n",
    "    for _ in range(n_hidden_layers):\n",
    "        model.add(tf.keras.layers.Dense(n_neurons, activation=\"relu\"))\n",
    "\n",
    "    model.add(tf.keras.layers.Dense(num_classes, activation=\"softmax\"))\n",
    "\n",
    "    model.compile(\n",
    "        optimizer=tf.keras.optimizers.Adam(),\n",
    "        loss=\"categorical_crossentropy\",\n",
    "        metrics=[\"accuracy\"],\n",
    "    )\n",
    "    \n",
    "    model_path = os.path.join(\n",
    "        dir_path, \"models\", f\"model_{n_hidden_layers}layers_{n_neurons}neurons.h5\"\n",
    "    )\n",
    "    if not model_path:\n",
    "        os.makedirs(os.path.join(dir_path, \"models\"))\n",
    "    # if not os.path.exists(os.path.join(dir_path, \"models\", f\"model_{n_hidden_layers}layers_{n_neurons}neurons.h5\")):\n",
    "    #     os.makedirs(os.path.join(dir_path,  \"models\", f\"model_{n_hidden_layers}layers_{n_neurons}neurons.h5\"))\n",
    "    \n",
    "\n",
    "    es = tf.keras.callbacks.EarlyStopping(monitor=\"val_loss\", patience=10)\n",
    "    ck = tf.keras.callbacks.ModelCheckpoint(\n",
    "        f'{model_path}', monitor=\"val_accuracy\", save_best_only=True\n",
    "    )\n",
    "\n",
    "    start = time()\n",
    "    model.fit(\n",
    "        x_train,\n",
    "        y_train_ohe,\n",
    "        batch_size=4,\n",
    "        epochs=100,\n",
    "        validation_data=(x_test, y_test_ohe),\n",
    "        verbose=2,\n",
    "        callbacks=[ck, es],\n",
    "    )\n",
    "    end = time() \n",
    "    \n",
    "    print(f\"Tempo de Treinamento: {end-start}\")\n",
    "\n",
    "    # salvar modelo\n",
    "    model = tf.keras.models.load_model(model_path)\n",
    "\n",
    "    # avaliar modelo com os dados de treinamento\n",
    "    print(\"Resultado Treinamento\")\n",
    "    model.evaluate(x_train, y_train_ohe, verbose=2)\n",
    "\n",
    "    # avaliar modelo com os dados de teste\n",
    "    print(\"Resultado Teste\")\n",
    "    model.evaluate(x_test, y_test_ohe, verbose=2)"
   ]
  },
  {
   "cell_type": "code",
   "execution_count": 47,
   "metadata": {},
   "outputs": [
    {
     "name": "stdout",
     "output_type": "stream",
     "text": [
      "Epoch 1/100\n",
      "150/150 - 2s - loss: 1.8763 - accuracy: 0.3250 - val_loss: 1.2699 - val_accuracy: 0.4900 - 2s/epoch - 12ms/step\n",
      "Epoch 2/100\n"
     ]
    },
    {
     "name": "stderr",
     "output_type": "stream",
     "text": [
      "/home/myller/.local/lib/python3.10/site-packages/keras/src/engine/training.py:3079: UserWarning: You are saving your model as an HDF5 file via `model.save()`. This file format is considered legacy. We recommend using instead the native Keras format, e.g. `model.save('my_model.keras')`.\n",
      "  saving_api.save_model(\n"
     ]
    },
    {
     "name": "stdout",
     "output_type": "stream",
     "text": [
      "150/150 - 0s - loss: 0.9487 - accuracy: 0.6550 - val_loss: 0.7114 - val_accuracy: 0.8100 - 472ms/epoch - 3ms/step\n",
      "Epoch 3/100\n",
      "150/150 - 0s - loss: 0.6897 - accuracy: 0.7267 - val_loss: 0.5865 - val_accuracy: 0.8200 - 492ms/epoch - 3ms/step\n",
      "Epoch 4/100\n",
      "150/150 - 0s - loss: 0.6089 - accuracy: 0.7600 - val_loss: 0.8266 - val_accuracy: 0.7200 - 453ms/epoch - 3ms/step\n",
      "Epoch 5/100\n",
      "150/150 - 0s - loss: 0.5720 - accuracy: 0.8200 - val_loss: 0.7616 - val_accuracy: 0.7600 - 472ms/epoch - 3ms/step\n",
      "Epoch 6/100\n",
      "150/150 - 0s - loss: 0.4087 - accuracy: 0.8700 - val_loss: 0.6545 - val_accuracy: 0.8500 - 498ms/epoch - 3ms/step\n",
      "Epoch 7/100\n",
      "150/150 - 0s - loss: 0.3288 - accuracy: 0.9217 - val_loss: 0.4813 - val_accuracy: 0.8600 - 475ms/epoch - 3ms/step\n",
      "Epoch 8/100\n",
      "150/150 - 0s - loss: 0.2365 - accuracy: 0.9350 - val_loss: 0.6771 - val_accuracy: 0.8000 - 441ms/epoch - 3ms/step\n",
      "Epoch 9/100\n",
      "150/150 - 0s - loss: 0.2689 - accuracy: 0.9333 - val_loss: 0.7033 - val_accuracy: 0.8100 - 430ms/epoch - 3ms/step\n",
      "Epoch 10/100\n",
      "150/150 - 0s - loss: 0.0958 - accuracy: 0.9717 - val_loss: 0.4965 - val_accuracy: 0.9000 - 466ms/epoch - 3ms/step\n",
      "Epoch 11/100\n",
      "150/150 - 0s - loss: 0.0509 - accuracy: 0.9900 - val_loss: 0.7595 - val_accuracy: 0.8100 - 431ms/epoch - 3ms/step\n",
      "Epoch 12/100\n",
      "150/150 - 0s - loss: 0.2592 - accuracy: 0.9267 - val_loss: 0.7152 - val_accuracy: 0.7700 - 426ms/epoch - 3ms/step\n",
      "Epoch 13/100\n",
      "150/150 - 0s - loss: 0.1407 - accuracy: 0.9617 - val_loss: 0.6628 - val_accuracy: 0.8500 - 430ms/epoch - 3ms/step\n",
      "Epoch 14/100\n",
      "150/150 - 0s - loss: 0.1816 - accuracy: 0.9583 - val_loss: 0.6313 - val_accuracy: 0.8100 - 425ms/epoch - 3ms/step\n",
      "Epoch 15/100\n",
      "150/150 - 0s - loss: 0.2056 - accuracy: 0.9333 - val_loss: 0.5069 - val_accuracy: 0.8700 - 424ms/epoch - 3ms/step\n",
      "Epoch 16/100\n",
      "150/150 - 0s - loss: 0.0993 - accuracy: 0.9700 - val_loss: 0.7600 - val_accuracy: 0.8200 - 433ms/epoch - 3ms/step\n",
      "Epoch 17/100\n",
      "150/150 - 0s - loss: 0.1230 - accuracy: 0.9733 - val_loss: 0.9327 - val_accuracy: 0.7900 - 438ms/epoch - 3ms/step\n",
      "Tempo de Treinamento: 9.12221884727478\n",
      "Resultado Treinamento\n",
      "19/19 - 0s - loss: 0.0445 - accuracy: 0.9867 - 152ms/epoch - 8ms/step\n",
      "Resultado Teste\n",
      "4/4 - 0s - loss: 0.4965 - accuracy: 0.9000 - 26ms/epoch - 6ms/step\n"
     ]
    }
   ],
   "source": [
    "n_hidden_layers = 10\n",
    "n_neurons = 100\n",
    "num_classes = 10\n",
    "gerar_rede(num_classes, n_neurons, n_hidden_layers)"
   ]
  },
  {
   "cell_type": "code",
   "execution_count": null,
   "metadata": {},
   "outputs": [],
   "source": []
  },
  {
   "cell_type": "code",
   "execution_count": null,
   "metadata": {},
   "outputs": [],
   "source": []
  }
 ],
 "metadata": {
  "kernelspec": {
   "display_name": "Python 3",
   "language": "python",
   "name": "python3"
  },
  "language_info": {
   "codemirror_mode": {
    "name": "ipython",
    "version": 3
   },
   "file_extension": ".py",
   "mimetype": "text/x-python",
   "name": "python",
   "nbconvert_exporter": "python",
   "pygments_lexer": "ipython3",
   "version": "3.10.12"
  }
 },
 "nbformat": 4,
 "nbformat_minor": 2
}

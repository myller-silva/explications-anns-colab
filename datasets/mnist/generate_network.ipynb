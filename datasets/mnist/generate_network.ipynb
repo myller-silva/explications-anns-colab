{
 "cells": [
  {
   "cell_type": "code",
   "execution_count": 58,
   "metadata": {},
   "outputs": [],
   "source": [
    "# base_path = './'"
   ]
  },
  {
   "cell_type": "code",
   "execution_count": 59,
   "metadata": {},
   "outputs": [],
   "source": [
    "import pandas as pd\n",
    "from time import time\n",
    "import tensorflow as tf\n",
    "import os"
   ]
  },
  {
   "cell_type": "code",
   "execution_count": 60,
   "metadata": {},
   "outputs": [],
   "source": [
    "def gerar_rede(num_classes: int, n_neurons: int, n_hidden_layers: int):\n",
    "    dir_path = os.getcwd()\n",
    "    \n",
    "    metrics_file = f\"{dir_path}/training_metrics.csv\"\n",
    "    if os.path.exists(metrics_file):\n",
    "        metrics_df = pd.read_csv(metrics_file)\n",
    "    else:\n",
    "        metrics_df = pd.DataFrame(columns=[\"Model Name\", \"Training Time\", \"Train Accuracy\", \"Test Accuracy\"])\n",
    "\n",
    "    file_data_train = os.path.join(dir_path, \"mnist_train.csv\")\n",
    "    file_data_test = os.path.join(dir_path, \"mnist_test.csv\")\n",
    "    \n",
    "    data_train = pd.read_csv(file_data_train).to_numpy()\n",
    "    data_test = pd.read_csv(file_data_test).to_numpy()\n",
    "\n",
    "    x_train, y_train = data_train[:, :-1], data_train[:, -1]\n",
    "    x_test, y_test = data_test[:, :-1], data_test[:, -1]\n",
    "\n",
    "    y_train_ohe = tf.keras.utils.to_categorical(\n",
    "        y_train, num_classes=num_classes)\n",
    "    y_test_ohe = tf.keras.utils.to_categorical(y_test, num_classes=num_classes)\n",
    "\n",
    "    model = tf.keras.Sequential(\n",
    "        [\n",
    "            tf.keras.layers.Input(shape=[x_train.shape[1]]),\n",
    "        ]\n",
    "    )\n",
    "\n",
    "    for _ in range(n_hidden_layers):\n",
    "        model.add(tf.keras.layers.Dense(n_neurons, activation=\"relu\"))\n",
    "\n",
    "    model.add(tf.keras.layers.Dense(num_classes, activation=\"softmax\"))\n",
    "\n",
    "    model.compile(\n",
    "        optimizer=tf.keras.optimizers.Adam(),\n",
    "        loss=\"categorical_crossentropy\",\n",
    "        metrics=[\"accuracy\"],\n",
    "    )\n",
    "    \n",
    "    extentions = ['h5', 'keras']\n",
    "    model_path = os.path.join(\n",
    "        dir_path, \"models\", f\"model_{n_hidden_layers}layers_{n_neurons}neurons\"\n",
    "    )\n",
    "    if not os.path.join(dir_path, \"models\"):\n",
    "        os.makedirs(os.path.join(dir_path, \"models\"))\n",
    "    \n",
    "\n",
    "    es = tf.keras.callbacks.EarlyStopping(monitor=\"val_loss\", patience=10)\n",
    "    ck = tf.keras.callbacks.ModelCheckpoint(\n",
    "        f'{model_path}.{extentions[1]}', monitor=\"val_accuracy\", save_best_only=True\n",
    "    )\n",
    "\n",
    "    start = time()\n",
    "    model.fit(\n",
    "        x_train,\n",
    "        y_train_ohe,\n",
    "        batch_size=4,\n",
    "        epochs=100,\n",
    "        validation_data=(x_test, y_test_ohe),\n",
    "        verbose=2,\n",
    "        callbacks=[ck, es],\n",
    "    )\n",
    "    end = time() \n",
    "    \n",
    "    print(f\"Tempo de Treinamento: {end-start}\")\n",
    "\n",
    "    # salvar modelo\n",
    "    model = tf.keras.models.load_model(f'{model_path}.{extentions[1]}')\n",
    "\n",
    "    # avaliar modelo com os dados de treinamento\n",
    "    print(\"Resultado Treinamento\")\n",
    "    model.evaluate(x_train, y_train_ohe, verbose=2)\n",
    "\n",
    "    # avaliar modelo com os dados de teste\n",
    "    print(\"Resultado Teste\")\n",
    "    # model.evaluate(x_test, y_test_ohe, verbose=2)\n",
    "    model.save(f'{model_path}.{extentions[0]}')\n",
    "    \n",
    "    train_loss, train_acc = model.evaluate(x_train, y_train_ohe, verbose=2)\n",
    "    test_loss, test_acc = model.evaluate(x_test, y_test_ohe, verbose=2)\n",
    "    \n",
    "    metrics_df.loc[len(metrics_df)] = { # type: ignore\n",
    "        \"Model Name\": f\"model_{n_hidden_layers}layers_{n_neurons}neurons\",\n",
    "        \"Training Time\": end - start,\n",
    "        \"Train Accuracy\": train_acc,\n",
    "        \"Test Accuracy\": test_acc\n",
    "    } \n",
    "    metrics_df.to_csv(metrics_file, index=False)"
   ]
  },
  {
   "cell_type": "code",
   "execution_count": 61,
   "metadata": {},
   "outputs": [
    {
     "name": "stdout",
     "output_type": "stream",
     "text": [
      "Epoch 1/100\n",
      "15000/15000 - 23s - 2ms/step - accuracy: 0.9002 - loss: 0.3303 - val_accuracy: 0.9408 - val_loss: 0.1974\n",
      "Epoch 2/100\n",
      "15000/15000 - 21s - 1ms/step - accuracy: 0.9418 - loss: 0.1962 - val_accuracy: 0.9492 - val_loss: 0.1709\n",
      "Epoch 3/100\n",
      "15000/15000 - 22s - 1ms/step - accuracy: 0.9498 - loss: 0.1649 - val_accuracy: 0.9503 - val_loss: 0.1666\n",
      "Epoch 4/100\n",
      "15000/15000 - 22s - 1ms/step - accuracy: 0.9559 - loss: 0.1480 - val_accuracy: 0.9517 - val_loss: 0.1625\n",
      "Epoch 5/100\n",
      "15000/15000 - 23s - 2ms/step - accuracy: 0.9587 - loss: 0.1350 - val_accuracy: 0.9595 - val_loss: 0.1400\n",
      "Epoch 6/100\n",
      "15000/15000 - 22s - 1ms/step - accuracy: 0.9610 - loss: 0.1274 - val_accuracy: 0.9558 - val_loss: 0.1598\n",
      "Epoch 7/100\n",
      "15000/15000 - 22s - 1ms/step - accuracy: 0.9638 - loss: 0.1206 - val_accuracy: 0.9520 - val_loss: 0.1667\n",
      "Epoch 8/100\n",
      "15000/15000 - 22s - 1ms/step - accuracy: 0.9651 - loss: 0.1146 - val_accuracy: 0.9585 - val_loss: 0.1449\n",
      "Epoch 9/100\n",
      "15000/15000 - 22s - 1ms/step - accuracy: 0.9666 - loss: 0.1109 - val_accuracy: 0.9582 - val_loss: 0.1492\n",
      "Epoch 10/100\n",
      "15000/15000 - 22s - 1ms/step - accuracy: 0.9670 - loss: 0.1063 - val_accuracy: 0.9549 - val_loss: 0.1690\n",
      "Epoch 11/100\n",
      "15000/15000 - 23s - 2ms/step - accuracy: 0.9687 - loss: 0.1032 - val_accuracy: 0.9608 - val_loss: 0.1439\n",
      "Epoch 12/100\n",
      "15000/15000 - 45s - 3ms/step - accuracy: 0.9682 - loss: 0.0995 - val_accuracy: 0.9587 - val_loss: 0.1505\n",
      "Epoch 13/100\n",
      "15000/15000 - 25s - 2ms/step - accuracy: 0.9693 - loss: 0.0979 - val_accuracy: 0.9599 - val_loss: 0.1628\n",
      "Epoch 14/100\n",
      "15000/15000 - 23s - 2ms/step - accuracy: 0.9705 - loss: 0.0955 - val_accuracy: 0.9595 - val_loss: 0.1708\n",
      "Epoch 15/100\n",
      "15000/15000 - 23s - 2ms/step - accuracy: 0.9713 - loss: 0.0934 - val_accuracy: 0.9533 - val_loss: 0.1922\n",
      "Tempo de Treinamento: 363.08438372612\n",
      "Resultado Treinamento\n",
      "1875/1875 - 3s - 2ms/step - accuracy: 0.9743 - loss: 0.0816\n"
     ]
    },
    {
     "name": "stderr",
     "output_type": "stream",
     "text": [
      "WARNING:absl:You are saving your model as an HDF5 file via `model.save()` or `keras.saving.save_model(model)`. This file format is considered legacy. We recommend using instead the native Keras format, e.g. `model.save('my_model.keras')` or `keras.saving.save_model(model, 'my_model.keras')`. \n"
     ]
    },
    {
     "name": "stdout",
     "output_type": "stream",
     "text": [
      "Resultado Teste\n",
      "1875/1875 - 3s - 2ms/step - accuracy: 0.9743 - loss: 0.0816\n",
      "313/313 - 1s - 3ms/step - accuracy: 0.9608 - loss: 0.1438\n"
     ]
    }
   ],
   "source": [
    "n_hidden_layers = 3\n",
    "n_neurons = 20\n",
    "num_classes = 10\n",
    "gerar_rede(num_classes, n_neurons, n_hidden_layers)"
   ]
  },
  {
   "cell_type": "code",
   "execution_count": null,
   "metadata": {},
   "outputs": [],
   "source": []
  },
  {
   "cell_type": "code",
   "execution_count": null,
   "metadata": {},
   "outputs": [],
   "source": []
  }
 ],
 "metadata": {
  "kernelspec": {
   "display_name": "Python 3",
   "language": "python",
   "name": "python3"
  },
  "language_info": {
   "codemirror_mode": {
    "name": "ipython",
    "version": 3
   },
   "file_extension": ".py",
   "mimetype": "text/x-python",
   "name": "python",
   "nbconvert_exporter": "python",
   "pygments_lexer": "ipython3",
   "version": "3.11.4"
  }
 },
 "nbformat": 4,
 "nbformat_minor": 2
}

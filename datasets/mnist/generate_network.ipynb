{
 "cells": [
  {
   "cell_type": "code",
   "execution_count": 86,
   "metadata": {},
   "outputs": [],
   "source": [
    "# base_path = './'"
   ]
  },
  {
   "cell_type": "code",
   "execution_count": 87,
   "metadata": {},
   "outputs": [],
   "source": [
    "import pandas as pd\n",
    "from time import time\n",
    "import tensorflow as tf\n",
    "import os"
   ]
  },
  {
   "cell_type": "code",
   "execution_count": 88,
   "metadata": {},
   "outputs": [],
   "source": [
    "def gerar_rede(dir_path: str, num_classes: int, n_neurons: int, n_hidden_layers: int):\n",
    "    data_train = pd.read_csv(dir_path + \"\\\\\" + \"mnist_train.csv\").to_numpy()\n",
    "    data_test = pd.read_csv(dir_path + \"\\\\\" + \"mnist_test.csv\").to_numpy()\n",
    "\n",
    "    x_train, y_train = data_train[:, :-1], data_train[:, -1]\n",
    "    x_test, y_test = data_test[:, :-1], data_test[:, -1]\n",
    "\n",
    "    y_train_ohe = tf.keras.utils.to_categorical(\n",
    "        y_train, num_classes=num_classes)\n",
    "    y_test_ohe = tf.keras.utils.to_categorical(y_test, num_classes=num_classes)\n",
    "\n",
    "    model = tf.keras.Sequential(\n",
    "        [\n",
    "            tf.keras.layers.Input(shape=[x_train.shape[1]]),\n",
    "        ]\n",
    "    )\n",
    "\n",
    "    for _ in range(n_hidden_layers):\n",
    "        model.add(tf.keras.layers.Dense(n_neurons, activation=\"relu\"))\n",
    "\n",
    "    model.add(tf.keras.layers.Dense(num_classes, activation=\"softmax\"))\n",
    "\n",
    "    model.compile(\n",
    "        optimizer=tf.keras.optimizers.Adam(),\n",
    "        loss=\"categorical_crossentropy\",\n",
    "        metrics=[\"accuracy\"],\n",
    "    )\n",
    "    \n",
    "    model_path = os.path.join(\n",
    "        dir_path, \"models\", f\"model_{n_hidden_layers}layers_{n_neurons}neurons.keras\"\n",
    "    )\n",
    "    if not model_path:\n",
    "        os.makedirs(os.path.join(dir_path, \"models\"))\n",
    "    # if not os.path.exists(os.path.join(dir_path, \"models\", f\"model_{n_hidden_layers}layers_{n_neurons}neurons.h5\")):\n",
    "    #     os.makedirs(os.path.join(dir_path,  \"models\", f\"model_{n_hidden_layers}layers_{n_neurons}neurons.h5\"))\n",
    "    \n",
    "\n",
    "    es = tf.keras.callbacks.EarlyStopping(monitor=\"val_loss\", patience=10)\n",
    "    ck = tf.keras.callbacks.ModelCheckpoint(\n",
    "        f'{model_path}', monitor=\"val_accuracy\", save_best_only=True\n",
    "    )\n",
    "\n",
    "    start = time()\n",
    "    model.fit(\n",
    "        x_train,\n",
    "        y_train_ohe,\n",
    "        batch_size=4,\n",
    "        epochs=100,\n",
    "        validation_data=(x_test, y_test_ohe),\n",
    "        verbose=2,\n",
    "        callbacks=[ck, es],\n",
    "    )\n",
    "    end = time() \n",
    "    \n",
    "    print(f\"Tempo de Treinamento: {end-start}\")\n",
    "\n",
    "    # salvar modelo\n",
    "    model = tf.keras.models.load_model(model_path)\n",
    "\n",
    "    # avaliar modelo com os dados de treinamento\n",
    "    print(\"Resultado Treinamento\")\n",
    "    model.evaluate(x_train, y_train_ohe, verbose=2)\n",
    "\n",
    "    # avaliar modelo com os dados de teste\n",
    "    print(\"Resultado Teste\")\n",
    "    model.evaluate(x_test, y_test_ohe, verbose=2)"
   ]
  },
  {
   "cell_type": "code",
   "execution_count": 89,
   "metadata": {},
   "outputs": [
    {
     "name": "stdout",
     "output_type": "stream",
     "text": [
      "Epoch 1/100\n",
      "150/150 - 3s - 18ms/step - accuracy: 0.2733 - loss: 1.9819 - val_accuracy: 0.4100 - val_loss: 1.5340\n",
      "Epoch 2/100\n",
      "150/150 - 0s - 3ms/step - accuracy: 0.5467 - loss: 1.2849 - val_accuracy: 0.5500 - val_loss: 1.1633\n",
      "Epoch 3/100\n",
      "150/150 - 0s - 3ms/step - accuracy: 0.6933 - loss: 0.8455 - val_accuracy: 0.6400 - val_loss: 1.0436\n",
      "Epoch 4/100\n",
      "150/150 - 0s - 3ms/step - accuracy: 0.7600 - loss: 0.6658 - val_accuracy: 0.7000 - val_loss: 0.9010\n",
      "Epoch 5/100\n",
      "150/150 - 0s - 2ms/step - accuracy: 0.8417 - loss: 0.4869 - val_accuracy: 0.7600 - val_loss: 0.8124\n",
      "Epoch 6/100\n",
      "150/150 - 0s - 3ms/step - accuracy: 0.8600 - loss: 0.4010 - val_accuracy: 0.7700 - val_loss: 0.7770\n",
      "Epoch 7/100\n",
      "150/150 - 1s - 4ms/step - accuracy: 0.9133 - loss: 0.2718 - val_accuracy: 0.7500 - val_loss: 0.7420\n",
      "Epoch 8/100\n",
      "150/150 - 0s - 2ms/step - accuracy: 0.9033 - loss: 0.2960 - val_accuracy: 0.8300 - val_loss: 0.7967\n",
      "Epoch 9/100\n",
      "150/150 - 0s - 2ms/step - accuracy: 0.9383 - loss: 0.1948 - val_accuracy: 0.7900 - val_loss: 0.7588\n",
      "Epoch 10/100\n",
      "150/150 - 0s - 3ms/step - accuracy: 0.9700 - loss: 0.1187 - val_accuracy: 0.8000 - val_loss: 0.8342\n",
      "Epoch 11/100\n",
      "150/150 - 0s - 2ms/step - accuracy: 0.9800 - loss: 0.0748 - val_accuracy: 0.8400 - val_loss: 0.7873\n",
      "Epoch 12/100\n",
      "150/150 - 1s - 5ms/step - accuracy: 0.9933 - loss: 0.0504 - val_accuracy: 0.8300 - val_loss: 0.8628\n",
      "Epoch 13/100\n",
      "150/150 - 0s - 2ms/step - accuracy: 0.9950 - loss: 0.0287 - val_accuracy: 0.8400 - val_loss: 0.8292\n",
      "Epoch 14/100\n",
      "150/150 - 0s - 2ms/step - accuracy: 0.9967 - loss: 0.0238 - val_accuracy: 0.8100 - val_loss: 1.0157\n",
      "Epoch 15/100\n",
      "150/150 - 1s - 4ms/step - accuracy: 0.9950 - loss: 0.0204 - val_accuracy: 0.8600 - val_loss: 0.9321\n",
      "Epoch 16/100\n",
      "150/150 - 0s - 2ms/step - accuracy: 0.9600 - loss: 0.1274 - val_accuracy: 0.8100 - val_loss: 1.0987\n",
      "Epoch 17/100\n",
      "150/150 - 0s - 2ms/step - accuracy: 0.9900 - loss: 0.0350 - val_accuracy: 0.8000 - val_loss: 1.1242\n",
      "Tempo de Treinamento: 9.439240217208862\n",
      "Resultado Treinamento\n",
      "19/19 - 0s - 23ms/step - accuracy: 1.0000 - loss: 0.0100\n",
      "Resultado Teste\n",
      "4/4 - 0s - 16ms/step - accuracy: 0.8600 - loss: 0.8590\n"
     ]
    }
   ],
   "source": [
    "n_hidden_layers = 6\n",
    "n_neurons = 20\n",
    "num_classes = 10\n",
    "dir_path = os.getcwd()\n",
    "gerar_rede(dir_path, num_classes, n_neurons, n_hidden_layers)"
   ]
  },
  {
   "cell_type": "code",
   "execution_count": null,
   "metadata": {},
   "outputs": [],
   "source": []
  },
  {
   "cell_type": "code",
   "execution_count": null,
   "metadata": {},
   "outputs": [],
   "source": []
  }
 ],
 "metadata": {
  "kernelspec": {
   "display_name": "Python 3",
   "language": "python",
   "name": "python3"
  },
  "language_info": {
   "codemirror_mode": {
    "name": "ipython",
    "version": 3
   },
   "file_extension": ".py",
   "mimetype": "text/x-python",
   "name": "python",
   "nbconvert_exporter": "python",
   "pygments_lexer": "ipython3",
   "version": "3.11.4"
  }
 },
 "nbformat": 4,
 "nbformat_minor": 2
}

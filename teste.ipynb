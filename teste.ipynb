{
 "cells": [
  {
   "cell_type": "code",
   "execution_count": 152,
   "metadata": {},
   "outputs": [],
   "source": [
    "import cplex \n",
    "import numpy as np\n",
    "import pandas as pd\n",
    "import docplex.mp as mp\n",
    "import docplex.mp.model as m\n",
    "from IPython.display import clear_output"
   ]
  },
  {
   "cell_type": "code",
   "execution_count": 153,
   "metadata": {},
   "outputs": [],
   "source": [
    "dataset_file = 'datasets/iris'\n",
    "model_file = 'models/model_2layers_20neurons.h5'\n",
    "model_lp_file = 'original.lp'"
   ]
  },
  {
   "cell_type": "code",
   "execution_count": 154,
   "metadata": {},
   "outputs": [],
   "source": [
    "# file_lp = ('datasets/iris/results/models/model_2layers_20neurons.h5/original.lp')\n",
    "file_lp = (f'{dataset_file}/results/{model_file}/{model_lp_file}')\n",
    "model = cplex.Cplex(file_lp)"
   ]
  },
  {
   "cell_type": "code",
   "execution_count": 155,
   "metadata": {},
   "outputs": [],
   "source": [
    "train_file = 'datasets/iris/train.csv'\n",
    "test_file = 'datasets/iris/test.csv'\n",
    "train_df = pd.read_csv(train_file)\n",
    "test_df = pd.read_csv(test_file)\n",
    "data = pd.concat([train_df, test_df])"
   ]
  },
  {
   "cell_type": "code",
   "execution_count": 169,
   "metadata": {},
   "outputs": [
    {
     "name": "stdout",
     "output_type": "stream",
     "text": [
      "sepal_length    0.138889\n",
      "sepal_width     0.416667\n",
      "petal_length    0.067797\n",
      "petal_width     0.083333\n",
      "species         0.000000\n",
      "Name: 0, dtype: float64\n",
      "[0.13888889 0.41666667 0.06779661 0.08333333]\n",
      "0.0\n"
     ]
    }
   ],
   "source": [
    "instancia = data.iloc[0]\n",
    "values:np.ndarray = instancia.values[0:-1]\n",
    "target:float = instancia.values[-1]\n",
    "print(instancia)\n",
    "print(values)\n",
    "print(target)"
   ]
  },
  {
   "cell_type": "code",
   "execution_count": null,
   "metadata": {},
   "outputs": [],
   "source": [
    "input_constraints = []\n",
    "for i in range(len(values)):\n",
    "    input_constraints.append(f'x{i} == {values[i]}')"
   ]
  },
  {
   "cell_type": "code",
   "execution_count": 157,
   "metadata": {},
   "outputs": [
    {
     "name": "stdout",
     "output_type": "stream",
     "text": [
      "Version identifier: 22.1.1.0 | 2023-02-11 | 22d6266e5\n",
      "CPXPARAM_Read_DataCheck                          1\n",
      "Tried aggregator 1 time.\n",
      "MIP Presolve eliminated 0 rows and 10 columns.\n",
      "Reduced MIP has 113 rows, 117 columns, and 752 nonzeros.\n",
      "Reduced MIP has 35 binaries, 0 generals, 0 SOSs, and 0 indicators.\n",
      "Presolve time = 0.01 sec. (0.16 ticks)\n",
      "Probing time = 0.00 sec. (0.16 ticks)\n",
      "Tried aggregator 1 time.\n",
      "Detecting symmetries...\n",
      "Reduced MIP has 113 rows, 117 columns, and 752 nonzeros.\n",
      "Reduced MIP has 35 binaries, 0 generals, 0 SOSs, and 0 indicators.\n",
      "Presolve time = 0.00 sec. (0.30 ticks)\n",
      "Probing time = 0.00 sec. (0.14 ticks)\n",
      "Clique table members: 35.\n",
      "MIP emphasis: balance optimality and feasibility.\n",
      "MIP search method: dynamic search.\n",
      "Parallel mode: deterministic, using up to 4 threads.\n",
      "Root relaxation solution time = 0.00 sec. (0.45 ticks)\n",
      "\n",
      "        Nodes                                         Cuts/\n",
      "   Node  Left     Objective  IInf  Best Integer    Best Bound    ItCnt     Gap\n",
      "\n",
      "      0     0        0.0000     1                      0.0000       19         \n",
      "*     0     0      integral     0        0.0000      Cuts: 10       26    0.00%\n",
      "      0     0        cutoff              0.0000        0.0000       26    0.00%\n",
      "Elapsed time = 0.04 sec. (4.21 ticks, tree = 0.01 MB, solutions = 1)\n",
      "\n",
      "Implied bound cuts applied:  1\n",
      "Mixed integer rounding cuts applied:  2\n",
      "Gomory fractional cuts applied:  1\n",
      "\n",
      "Root node processing (before b&c):\n",
      "  Real time             =    0.04 sec. (4.22 ticks)\n",
      "Parallel b&c, 4 threads:\n",
      "  Real time             =    0.00 sec. (0.00 ticks)\n",
      "  Sync time (average)   =    0.00 sec.\n",
      "  Wait time (average)   =    0.00 sec.\n",
      "                          ------------\n",
      "Total (root+branch&cut) =    0.04 sec. (4.22 ticks)\n",
      "vars:       \t 127\n",
      "values:     \t 127\n",
      "objective:  \t 0.0\n"
     ]
    }
   ],
   "source": [
    "model.solve()\n",
    "# clear_output()\n",
    "print(f'vars:       \\t', len(model.variables.get_names()))\n",
    "print(f'values:     \\t', len(model.solution.get_values()))\n",
    "print(f'objective:  \\t', model.solution.get_objective_value())"
   ]
  },
  {
   "cell_type": "code",
   "execution_count": null,
   "metadata": {},
   "outputs": [],
   "source": []
  },
  {
   "cell_type": "code",
   "execution_count": null,
   "metadata": {},
   "outputs": [],
   "source": []
  }
 ],
 "metadata": {
  "kernelspec": {
   "display_name": "Python 3",
   "language": "python",
   "name": "python3"
  },
  "language_info": {
   "codemirror_mode": {
    "name": "ipython",
    "version": 3
   },
   "file_extension": ".py",
   "mimetype": "text/x-python",
   "name": "python",
   "nbconvert_exporter": "python",
   "pygments_lexer": "ipython3",
   "version": "3.10.12"
  }
 },
 "nbformat": 4,
 "nbformat_minor": 2
}

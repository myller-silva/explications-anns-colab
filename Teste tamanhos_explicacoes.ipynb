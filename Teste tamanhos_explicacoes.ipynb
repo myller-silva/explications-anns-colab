{
 "cells": [
  {
   "cell_type": "code",
   "execution_count": 15,
   "metadata": {},
   "outputs": [],
   "source": [
    "import pandas as pd"
   ]
  },
  {
   "cell_type": "code",
   "execution_count": 21,
   "metadata": {},
   "outputs": [
    {
     "data": {
      "text/html": [
       "<div>\n",
       "<style scoped>\n",
       "    .dataframe tbody tr th:only-of-type {\n",
       "        vertical-align: middle;\n",
       "    }\n",
       "\n",
       "    .dataframe tbody tr th {\n",
       "        vertical-align: top;\n",
       "    }\n",
       "\n",
       "    .dataframe thead th {\n",
       "        text-align: right;\n",
       "    }\n",
       "</style>\n",
       "<table border=\"1\" class=\"dataframe\">\n",
       "  <thead>\n",
       "    <tr style=\"text-align: right;\">\n",
       "      <th></th>\n",
       "      <th>instance_index</th>\n",
       "      <th>tempo_original</th>\n",
       "      <th>tempo_relaxado</th>\n",
       "      <th>tempo_relaxado_global</th>\n",
       "      <th>len_original</th>\n",
       "      <th>len_relaxado</th>\n",
       "      <th>len_relaxado_global</th>\n",
       "      <th>delta</th>\n",
       "      <th>explanation</th>\n",
       "      <th>explanation_relaxed</th>\n",
       "      <th>explanation_relaxed_global</th>\n",
       "    </tr>\n",
       "  </thead>\n",
       "  <tbody>\n",
       "    <tr>\n",
       "      <th>7</th>\n",
       "      <td>7</td>\n",
       "      <td>6.151275</td>\n",
       "      <td>0.886069</td>\n",
       "      <td>0.894188</td>\n",
       "      <td>40.0</td>\n",
       "      <td>44</td>\n",
       "      <td>43</td>\n",
       "      <td>0.3</td>\n",
       "      <td>[(0, 2), (0, 5), (0, 6), (1, 1), (1, 2), (1, 4...</td>\n",
       "      <td>[(0, 6), (0, 7), (1, 1), (1, 2), (1, 3), (1, 4...</td>\n",
       "      <td>[(0, 2), (0, 5), (0, 6), (0, 7), (1, 1), (1, 2...</td>\n",
       "    </tr>\n",
       "    <tr>\n",
       "      <th>32</th>\n",
       "      <td>32</td>\n",
       "      <td>5.716095</td>\n",
       "      <td>0.811433</td>\n",
       "      <td>0.805552</td>\n",
       "      <td>46.0</td>\n",
       "      <td>33</td>\n",
       "      <td>36</td>\n",
       "      <td>0.3</td>\n",
       "      <td>[(0, 2), (0, 5), (0, 7), (1, 0), (1, 1), (1, 4...</td>\n",
       "      <td>[(1, 6), (1, 7), (2, 0), (2, 2), (2, 3), (2, 4...</td>\n",
       "      <td>[(0, 6), (1, 3), (1, 4), (1, 6), (1, 7), (2, 0...</td>\n",
       "    </tr>\n",
       "    <tr>\n",
       "      <th>35</th>\n",
       "      <td>35</td>\n",
       "      <td>10.944768</td>\n",
       "      <td>0.791621</td>\n",
       "      <td>0.757078</td>\n",
       "      <td>40.0</td>\n",
       "      <td>36</td>\n",
       "      <td>43</td>\n",
       "      <td>0.3</td>\n",
       "      <td>[(0, 6), (1, 3), (1, 4), (1, 5), (1, 6), (2, 1...</td>\n",
       "      <td>[(1, 2), (1, 6), (1, 7), (2, 0), (2, 2), (2, 3...</td>\n",
       "      <td>[(0, 4), (0, 5), (0, 6), (1, 1), (1, 2), (1, 3...</td>\n",
       "    </tr>\n",
       "    <tr>\n",
       "      <th>40</th>\n",
       "      <td>40</td>\n",
       "      <td>9.463692</td>\n",
       "      <td>0.800176</td>\n",
       "      <td>0.757176</td>\n",
       "      <td>40.0</td>\n",
       "      <td>44</td>\n",
       "      <td>47</td>\n",
       "      <td>0.3</td>\n",
       "      <td>[(1, 1), (1, 2), (1, 5), (1, 6), (1, 7), (2, 0...</td>\n",
       "      <td>[(0, 4), (0, 5), (0, 6), (1, 1), (1, 2), (1, 3...</td>\n",
       "      <td>[(0, 2), (0, 4), (0, 5), (0, 6), (1, 1), (1, 2...</td>\n",
       "    </tr>\n",
       "    <tr>\n",
       "      <th>42</th>\n",
       "      <td>42</td>\n",
       "      <td>6.973344</td>\n",
       "      <td>0.820910</td>\n",
       "      <td>1.235472</td>\n",
       "      <td>39.0</td>\n",
       "      <td>29</td>\n",
       "      <td>38</td>\n",
       "      <td>0.3</td>\n",
       "      <td>[(1, 5), (1, 7), (2, 0), (2, 2), (2, 3), (2, 5...</td>\n",
       "      <td>[(3, 4), (3, 6), (4, 1), (4, 2), (4, 4), (4, 5...</td>\n",
       "      <td>[(1, 6), (1, 7), (2, 0), (2, 2), (2, 3), (2, 4...</td>\n",
       "    </tr>\n",
       "  </tbody>\n",
       "</table>\n",
       "</div>"
      ],
      "text/plain": [
       "    instance_index  tempo_original  tempo_relaxado  tempo_relaxado_global  \\\n",
       "7                7        6.151275        0.886069               0.894188   \n",
       "32              32        5.716095        0.811433               0.805552   \n",
       "35              35       10.944768        0.791621               0.757078   \n",
       "40              40        9.463692        0.800176               0.757176   \n",
       "42              42        6.973344        0.820910               1.235472   \n",
       "\n",
       "    len_original  len_relaxado  len_relaxado_global  delta  \\\n",
       "7           40.0            44                   43    0.3   \n",
       "32          46.0            33                   36    0.3   \n",
       "35          40.0            36                   43    0.3   \n",
       "40          40.0            44                   47    0.3   \n",
       "42          39.0            29                   38    0.3   \n",
       "\n",
       "                                          explanation  \\\n",
       "7   [(0, 2), (0, 5), (0, 6), (1, 1), (1, 2), (1, 4...   \n",
       "32  [(0, 2), (0, 5), (0, 7), (1, 0), (1, 1), (1, 4...   \n",
       "35  [(0, 6), (1, 3), (1, 4), (1, 5), (1, 6), (2, 1...   \n",
       "40  [(1, 1), (1, 2), (1, 5), (1, 6), (1, 7), (2, 0...   \n",
       "42  [(1, 5), (1, 7), (2, 0), (2, 2), (2, 3), (2, 5...   \n",
       "\n",
       "                                  explanation_relaxed  \\\n",
       "7   [(0, 6), (0, 7), (1, 1), (1, 2), (1, 3), (1, 4...   \n",
       "32  [(1, 6), (1, 7), (2, 0), (2, 2), (2, 3), (2, 4...   \n",
       "35  [(1, 2), (1, 6), (1, 7), (2, 0), (2, 2), (2, 3...   \n",
       "40  [(0, 4), (0, 5), (0, 6), (1, 1), (1, 2), (1, 3...   \n",
       "42  [(3, 4), (3, 6), (4, 1), (4, 2), (4, 4), (4, 5...   \n",
       "\n",
       "                           explanation_relaxed_global  \n",
       "7   [(0, 2), (0, 5), (0, 6), (0, 7), (1, 1), (1, 2...  \n",
       "32  [(0, 6), (1, 3), (1, 4), (1, 6), (1, 7), (2, 0...  \n",
       "35  [(0, 4), (0, 5), (0, 6), (1, 1), (1, 2), (1, 3...  \n",
       "40  [(0, 2), (0, 4), (0, 5), (0, 6), (1, 1), (1, 2...  \n",
       "42  [(1, 6), (1, 7), (2, 0), (2, 2), (2, 3), (2, 4...  "
      ]
     },
     "execution_count": 21,
     "metadata": {},
     "output_type": "execute_result"
    }
   ],
   "source": [
    "path = 'datasets/digits/results/models/model_2layers_20neurons.h5/df.csv'\n",
    "df = pd.read_csv(path) \n",
    "df.query('len_relaxado<64').head()"
   ]
  },
  {
   "cell_type": "code",
   "execution_count": 17,
   "metadata": {},
   "outputs": [
    {
     "data": {
      "text/plain": [
       "True"
      ]
     },
     "execution_count": 17,
     "metadata": {},
     "output_type": "execute_result"
    }
   ],
   "source": [
    "(df['len_relaxado'] > df['len_relaxado_global']).any()\n"
   ]
  },
  {
   "cell_type": "code",
   "execution_count": 18,
   "metadata": {},
   "outputs": [
    {
     "data": {
      "text/plain": [
       "0      False\n",
       "1      False\n",
       "2      False\n",
       "3      False\n",
       "4      False\n",
       "       ...  \n",
       "200     True\n",
       "201     True\n",
       "202     True\n",
       "203     True\n",
       "204    False\n",
       "Name: len_relaxado, Length: 205, dtype: bool"
      ]
     },
     "execution_count": 18,
     "metadata": {},
     "output_type": "execute_result"
    }
   ],
   "source": [
    "df['len_relaxado']<64"
   ]
  },
  {
   "cell_type": "code",
   "execution_count": 19,
   "metadata": {},
   "outputs": [
    {
     "data": {
      "text/plain": [
       "0      False\n",
       "1      False\n",
       "2      False\n",
       "3      False\n",
       "4      False\n",
       "       ...  \n",
       "200     True\n",
       "201     True\n",
       "202     True\n",
       "203     True\n",
       "204    False\n",
       "Name: len_relaxado_global, Length: 205, dtype: bool"
      ]
     },
     "execution_count": 19,
     "metadata": {},
     "output_type": "execute_result"
    }
   ],
   "source": [
    "df['len_relaxado_global']<64"
   ]
  },
  {
   "cell_type": "code",
   "execution_count": null,
   "metadata": {},
   "outputs": [],
   "source": []
  }
 ],
 "metadata": {
  "kernelspec": {
   "display_name": "Python 3",
   "language": "python",
   "name": "python3"
  },
  "language_info": {
   "codemirror_mode": {
    "name": "ipython",
    "version": 3
   },
   "file_extension": ".py",
   "mimetype": "text/x-python",
   "name": "python",
   "nbconvert_exporter": "python",
   "pygments_lexer": "ipython3",
   "version": "3.10.13"
  }
 },
 "nbformat": 4,
 "nbformat_minor": 2
}

{
 "cells": [
  {
   "cell_type": "markdown",
   "metadata": {},
   "source": [
    "# Imports"
   ]
  },
  {
   "cell_type": "code",
   "execution_count": 1,
   "metadata": {},
   "outputs": [],
   "source": [
    "from typing import Optional"
   ]
  },
  {
   "cell_type": "code",
   "execution_count": 1,
   "metadata": {},
   "outputs": [],
   "source": [
    "import os\n",
    "from time import time"
   ]
  },
  {
   "cell_type": "code",
   "execution_count": null,
   "metadata": {},
   "outputs": [],
   "source": [
    "import pandas as pd\n",
    "import tensorflow as tf\n",
    "from keras.api.models import load_model\n",
    "# from keras.api.models import Model as KerasModel"
   ]
  },
  {
   "cell_type": "code",
   "execution_count": null,
   "metadata": {},
   "outputs": [],
   "source": [
    "from experiments.utils import (\n",
    "    generate_layers_to_relax,\n",
    "    linear_constraints_to_dict,\n",
    "    store_data,\n",
    ")"
   ]
  },
  {
   "cell_type": "markdown",
   "metadata": {},
   "source": [
    "# Utils"
   ]
  },
  {
   "cell_type": "code",
   "execution_count": null,
   "metadata": {},
   "outputs": [],
   "source": [
    "def benchmark(\n",
    "    results_path: str, \n",
    "    layers_idx: Optional[list[int]] = None\n",
    "):\n",
    "    # Datasets e modelos\n",
    "    datasets = [\n",
    "        # {\"nome\": \"iris\", \"n_classes\": 3},\n",
    "        # {\"nome\": \"wine\", \"n_classes\": 3},\n",
    "        # {\"nome\": \"breast_cancer\", \"n_classes\": 2},\n",
    "        # {\"nome\": \"glass\", \"n_classes\": 5},\n",
    "        {\"nome\": \"digits\", \"n_classes\": 10},\n",
    "        # {\"nome\":\"mnist\", \"n_classes\":10}, # rodar individualmente\n",
    "    ]\n",
    "    modelos = [\n",
    "        \"model_1layers_20neurons.h5\",\n",
    "        \"model_2layers_20neurons.h5\",\n",
    "        \"model_3layers_20neurons.h5\",\n",
    "    ]\n",
    "\n",
    "    # definir array de deltas a seres utilizados\n",
    "    deltas = [0.01, 0.02, 0.03, 0.04, 0.05, 0.06, 0.07, 0.08, 0.09, 0.1]\n",
    "\n",
    "    # para cada dataset\n",
    "    for dataset in datasets:\n",
    "        data = pd.read_csv(f\"datasets/{dataset['nome']}/data.csv\")\n",
    "        # para cada modelo do dataset\n",
    "        for modelo in modelos:\n",
    "\n",
    "            # carregar modelo em formato h5\n",
    "            keras_model = load_model(\n",
    "                f\"datasets/{dataset['nome']}/models/{modelo}\", compile=False\n",
    "            )\n",
    "\n",
    "            # 1 - gerar modelos MILP\n",
    "            method = \"fischetti\"\n",
    "            model_milp, output_bounds = codify_network(keras_model, data, method, True)\n",
    "\n",
    "            # 2 - gerar modelo MILP relaxado\n",
    "            model_milp_relaxed = relax_model(\n",
    "                model=model_milp,\n",
    "                neural_network=keras_model, # type: ignore\n",
    "                layers_to_relax=generate_layers_to_relax(\n",
    "                    neural_network=keras_model, # type: ignore\n",
    "                    layers_idx=layers_idx, # type: ignore\n",
    "            ))\n",
    "            # para cada instancia do dataset\n",
    "            # for index, instance in data.iterrows():\n",
    "            for index in range(len(data)):\n",
    "                if index >= 100:  # type: ignore\n",
    "                    break\n",
    "                print(f\"Dataset: {dataset['nome']} Modelo: {modelo} Instancia: {index}\")\n",
    "\n",
    "                # Predicao\n",
    "                network_input = tf.reshape(tf.constant(data.iloc[index, :-1]), (1, -1))  # type: ignore\n",
    "                network_output = tf.argmax(keras_model.predict(tf.constant(network_input), verbose=0)[0])  # type: ignore\n",
    "\n",
    "                # # Explicacao\n",
    "                # init = time()\n",
    "                # (explanation, _) = get_minimal_explanation(\n",
    "                #     model_milp.clone(),\n",
    "                #     network_input,\n",
    "                #     network_output,\n",
    "                #     n_classes=dataset[\"n_classes\"],\n",
    "                #     method=method,\n",
    "                #     output_bounds=output_bounds,\n",
    "                # )\n",
    "                # end = time()\n",
    "\n",
    "                # original = {\n",
    "                #     \"time_milp\": end - init,\n",
    "                #     \"len_milp\": len(explanation),\n",
    "                #     \"explanation\": linear_constraints_to_dict(explanation),\n",
    "                # }\n",
    "\n",
    "                # Relaxed\n",
    "                relaxed = {\"times\": [], \"len_eq\": [], \"len_range\": [], \"explanation\": []}\n",
    "                for delta in deltas:\n",
    "                    init = time()\n",
    "                    (explanation, _) = get_explanation_range(\n",
    "                        milp_model=model_milp_relaxed.clone(),\n",
    "                        network_input=network_input,\n",
    "                        n_classes=dataset[\"n_classes\"],\n",
    "                        delta=delta,\n",
    "                        network_output=network_output,\n",
    "                    )\n",
    "                    end = time()\n",
    "                    relaxed[\"times\"].append(end - init)\n",
    "                    relaxed[\"len_eq\"].append(len(explanation[\"eq\"]))\n",
    "                    relaxed[\"len_range\"].append(len(explanation[\"range\"]))\n",
    "                    relaxed[\"explanation\"].append({\n",
    "                        \"eq\": linear_constraints_to_dict(explanation[\"eq\"]),\n",
    "                        \"range\": explanation[\"range\"],\n",
    "                    })\n",
    "\n",
    "                store_data(\n",
    "                    f\"{results_path}/{dataset['nome']}.csv\",\n",
    "                    [\n",
    "                        {\n",
    "                            \"dataset\": dataset[\"nome\"],\n",
    "                            \"modelo\": modelo,\n",
    "                            \"instance\": index,\n",
    "                            # **{f\"original_{k}\": v for k, v in original.items()},\n",
    "                            **{f\"relaxed_{k}\": v for k, v in relaxed.items()},\n",
    "                        }\n",
    "                    ],\n",
    "                )"
   ]
  },
  {
   "cell_type": "markdown",
   "metadata": {},
   "source": [
    "# Experiments"
   ]
  },
  {
   "cell_type": "code",
   "execution_count": null,
   "metadata": {},
   "outputs": [],
   "source": [
    "# layers = [0]\n",
    "# path = os.path.join(\n",
    "#     \"results\",\n",
    "#     \"get_explanation_range\",\n",
    "#     f\"layers {'_'.join([str(l) for l in layers])} relaxed\",\n",
    "# )\n",
    "\n",
    "# os.makedirs(path, exist_ok=True)\n",
    "\n",
    "# benchmark(path, layers)"
   ]
  },
  {
   "cell_type": "code",
   "execution_count": null,
   "metadata": {},
   "outputs": [],
   "source": [
    "layers = [1]\n",
    "path = os.path.join(\n",
    "    \"results\",\n",
    "    \"get_explanation_range\",\n",
    "    f\"layers {'_'.join([str(l) for l in layers])} relaxed\",\n",
    ")\n",
    "\n",
    "os.makedirs(path, exist_ok=True)\n",
    "\n",
    "benchmark(path, layers)"
   ]
  },
  {
   "cell_type": "code",
   "execution_count": null,
   "metadata": {},
   "outputs": [],
   "source": []
  }
 ],
 "metadata": {
  "kernelspec": {
   "display_name": ".venv",
   "language": "python",
   "name": "python3"
  },
  "language_info": {
   "codemirror_mode": {
    "name": "ipython",
    "version": 3
   },
   "file_extension": ".py",
   "mimetype": "text/x-python",
   "name": "python",
   "nbconvert_exporter": "python",
   "pygments_lexer": "ipython3",
   "version": "3.11.4"
  }
 },
 "nbformat": 4,
 "nbformat_minor": 2
}

{
  "nbformat": 4,
  "nbformat_minor": 0,
  "metadata": {
    "colab": {
      "provenance": [],
      "authorship_tag": "ABX9TyOwSRK/LzCHTbG6fp+wZL8i",
      "include_colab_link": true
    },
    "kernelspec": {
      "name": "python3",
      "display_name": "Python 3"
    },
    "language_info": {
      "name": "python"
    }
  },
  "cells": [
    {
      "cell_type": "markdown",
      "metadata": {
        "id": "view-in-github",
        "colab_type": "text"
      },
      "source": [
        "<a href=\"https://colab.research.google.com/github/myller-silva/explications-anns-colab/blob/main/Explications_ANNs.ipynb\" target=\"_parent\"><img src=\"https://colab.research.google.com/assets/colab-badge.svg\" alt=\"Open In Colab\"/></a>"
      ]
    },
    {
      "cell_type": "markdown",
      "source": [
        "# Instalações"
      ],
      "metadata": {
        "id": "tSh_KMRsZ588"
      }
    },
    {
      "cell_type": "code",
      "source": [
        "!pip install cplex"
      ],
      "metadata": {
        "colab": {
          "base_uri": "https://localhost:8080/"
        },
        "id": "oL_A237EZULC",
        "outputId": "577da25b-218f-4e57-fa7e-bac92c953f2e"
      },
      "execution_count": 332,
      "outputs": [
        {
          "output_type": "stream",
          "name": "stdout",
          "text": [
            "Requirement already satisfied: cplex in /usr/local/lib/python3.10/dist-packages (22.1.1.0)\n"
          ]
        }
      ]
    },
    {
      "cell_type": "code",
      "source": [
        "!pip install docplex"
      ],
      "metadata": {
        "colab": {
          "base_uri": "https://localhost:8080/"
        },
        "id": "oR3u0LQlZ-gy",
        "outputId": "53059c03-d27f-4521-c6e4-2cfb39f53ec5"
      },
      "execution_count": 333,
      "outputs": [
        {
          "output_type": "stream",
          "name": "stdout",
          "text": [
            "Requirement already satisfied: docplex in /usr/local/lib/python3.10/dist-packages (2.25.236)\n",
            "Requirement already satisfied: six in /usr/local/lib/python3.10/dist-packages (from docplex) (1.16.0)\n"
          ]
        }
      ]
    },
    {
      "cell_type": "code",
      "source": [
        "# !pip install tensorflow"
      ],
      "metadata": {
        "id": "0wMnUEE_Z_3_"
      },
      "execution_count": 334,
      "outputs": []
    },
    {
      "cell_type": "code",
      "source": [
        "# !pip install matplotlib"
      ],
      "metadata": {
        "id": "p0TvIKFfaAd6"
      },
      "execution_count": 335,
      "outputs": []
    },
    {
      "cell_type": "markdown",
      "source": [
        "# Importações"
      ],
      "metadata": {
        "id": "4JEM7-7qV17W"
      }
    },
    {
      "cell_type": "code",
      "source": [
        "import os\n",
        "import cplex\n",
        "import numpy as np\n",
        "import pandas as pd\n",
        "from time import time\n",
        "import tensorflow as tf\n",
        "from cplex import infinity\n",
        "import docplex.mp.model as mp\n",
        "from typing import List, Tuple\n",
        "import matplotlib.pyplot as plt\n",
        "from dataclasses import dataclass\n",
        "from statistics import mean, stdev\n",
        "import matplotlib.patches as patches\n",
        "from docplex.mp.constr import LinearConstraint"
      ],
      "metadata": {
        "id": "XXwpgpr8V-aL"
      },
      "execution_count": 336,
      "outputs": []
    },
    {
      "cell_type": "markdown",
      "source": [
        "# Drive"
      ],
      "metadata": {
        "id": "RVQu0m63WHX8"
      }
    },
    {
      "cell_type": "markdown",
      "source": [
        "## Montar o Google Drive"
      ],
      "metadata": {
        "id": "V741l6nKH9VL"
      }
    },
    {
      "cell_type": "code",
      "source": [
        "from google.colab import drive\n",
        "drive.mount('/content/drive')\n",
        "base_path = '/content/drive/My Drive/explications-anns'"
      ],
      "metadata": {
        "colab": {
          "base_uri": "https://localhost:8080/"
        },
        "id": "Pxh3fzUhVM23",
        "outputId": "6a3b687e-41f2-4073-dca7-981a8b28ea40"
      },
      "execution_count": 337,
      "outputs": [
        {
          "output_type": "stream",
          "name": "stdout",
          "text": [
            "Drive already mounted at /content/drive; to attempt to forcibly remount, call drive.mount(\"/content/drive\", force_remount=True).\n"
          ]
        }
      ]
    },
    {
      "cell_type": "markdown",
      "source": [
        "## Caminho para os arquivos no Google Drive"
      ],
      "metadata": {
        "id": "n0WrXMoTHnv-"
      }
    },
    {
      "cell_type": "code",
      "source": [
        "datasets_path = f'{base_path}/datasets'"
      ],
      "metadata": {
        "id": "wvR_LpCLVTXn"
      },
      "execution_count": 338,
      "outputs": []
    },
    {
      "cell_type": "code",
      "source": [
        "resultados_path = f'{base_path}/resultados'"
      ],
      "metadata": {
        "id": "vZZP8oL0WQ5T"
      },
      "execution_count": 339,
      "outputs": []
    },
    {
      "cell_type": "markdown",
      "source": [
        "# Milp"
      ],
      "metadata": {
        "id": "BHWYjoY5abiC"
      }
    },
    {
      "cell_type": "markdown",
      "source": [
        "## Fischetti"
      ],
      "metadata": {
        "id": "JE9NjLNxalQU"
      }
    },
    {
      "cell_type": "markdown",
      "source": [
        "### Original"
      ],
      "metadata": {
        "id": "BrmqxN1aaqEb"
      }
    },
    {
      "cell_type": "code",
      "source": [
        "def codify_network_fischetti(\n",
        "    mdl,\n",
        "    layers,\n",
        "    input_variables,\n",
        "    auxiliary_variables,\n",
        "    intermediate_variables,\n",
        "    decision_variables,\n",
        "    output_variables,\n",
        "):\n",
        "    output_bounds = []\n",
        "    bounds = []\n",
        "\n",
        "    for i in range(len(layers)):\n",
        "        A = layers[i].get_weights()[0].T\n",
        "        b = layers[i].bias.numpy()\n",
        "        x = input_variables if i == 0 else intermediate_variables[i - 1]\n",
        "        if i != len(layers) - 1:\n",
        "            s = auxiliary_variables[i]\n",
        "            a = decision_variables[i]\n",
        "            y = intermediate_variables[i]\n",
        "        else:\n",
        "            y = output_variables\n",
        "\n",
        "        for j in range(A.shape[0]):\n",
        "            if i != len(layers) - 1:\n",
        "                mdl.add_constraint(\n",
        "                    A[j, :] @ x + b[j] == y[j] - s[j], ctname=f\"c_{i}_{j}\"\n",
        "                )\n",
        "                mdl.add_indicator(a[j], y[j] <= 0, 1)\n",
        "                mdl.add_indicator(a[j], s[j] <= 0, 0)\n",
        "\n",
        "                mdl.maximize(y[j])\n",
        "                mdl.solve()\n",
        "                ub_y = mdl.solution.get_objective_value()\n",
        "                mdl.remove_objective()\n",
        "\n",
        "                mdl.maximize(s[j])\n",
        "                mdl.solve()\n",
        "                ub_s = mdl.solution.get_objective_value()\n",
        "                mdl.remove_objective()\n",
        "\n",
        "                y[j].set_ub(ub_y)\n",
        "                s[j].set_ub(ub_s)\n",
        "\n",
        "                # retornar sem o sinal? [ub_s, ub_y]\n",
        "                bounds.append([ub_s, ub_y])\n",
        "\n",
        "            else:\n",
        "                mdl.add_constraint(A[j, :] @ x + b[j] ==\n",
        "                                   y[j], ctname=f\"c_{i}_{j}\")\n",
        "                mdl.maximize(y[j])\n",
        "                mdl.solve()\n",
        "                ub = mdl.solution.get_objective_value()\n",
        "                mdl.remove_objective()\n",
        "\n",
        "                mdl.minimize(y[j])\n",
        "                mdl.solve()\n",
        "                lb = mdl.solution.get_objective_value()\n",
        "                mdl.remove_objective()\n",
        "\n",
        "                y[j].set_ub(ub)\n",
        "                y[j].set_lb(lb)\n",
        "\n",
        "                # todo: modificar para [-lb, ub]?\n",
        "                output_bounds.append([lb, ub])\n",
        "\n",
        "                bounds.append([lb, ub])\n",
        "\n",
        "    return mdl, output_bounds, bounds"
      ],
      "metadata": {
        "id": "SnTMbVoAaeTN"
      },
      "execution_count": 340,
      "outputs": []
    },
    {
      "cell_type": "markdown",
      "source": [
        "### Relaxado"
      ],
      "metadata": {
        "id": "xkFdUD1tcdBT"
      }
    },
    {
      "cell_type": "code",
      "source": [
        "def codify_network_fischetti_relaxed(\n",
        "    mdl,\n",
        "    layers,\n",
        "    input_variables,\n",
        "    auxiliary_variables,\n",
        "    intermediate_variables,\n",
        "    decision_variables,\n",
        "    output_variables,\n",
        "    output_bounds_binary_variables,\n",
        "    bounds=[]\n",
        "):\n",
        "    output_bounds = []\n",
        "\n",
        "    for i in range(len(layers)):  # para cada camada\n",
        "        A = layers[i].get_weights()[0].T\n",
        "        b = layers[i].bias.numpy()\n",
        "        x = input_variables if i == 0 else intermediate_variables[i - 1]\n",
        "        if i != len(layers) - 1:\n",
        "            s = auxiliary_variables[i]\n",
        "            a = decision_variables[i]\n",
        "            y = intermediate_variables[i]\n",
        "        else:\n",
        "            y = output_variables\n",
        "\n",
        "        for j in range(A.shape[0]):  # para cada neuronio da camada\n",
        "            if i != len(layers) - 1:  # se não for a última camada(camada de saída)\n",
        "                m_less, m_more = bounds[j]\n",
        "                y[j].set_ub(m_less)\n",
        "                s[j].set_ub(m_more)\n",
        "                # m_less = -m_less # todo: modificar antes de verificar os valores?\n",
        "                if m_more <= 0:\n",
        "                    mdl.add_constraint(y[j] == 0)\n",
        "                    continue\n",
        "\n",
        "                if m_less >= 0:\n",
        "                    mdl.add_constraint(A[j, :] @ x + b[j] == y[j])\n",
        "                    continue\n",
        "\n",
        "                if m_less < 0 and m_more > 0:\n",
        "                    mdl.add_constraint(\n",
        "                        A[j, :] @ x + b[j] == y[j] - s[j], ctname=f\"c_{i}_{j}\"\n",
        "                    )\n",
        "                    mdl.add_constraint(y[j] <= m_more * (1 - a[j]))\n",
        "                    mdl.add_constraint(s[j] <= -m_less * a[j])\n",
        "                    continue\n",
        "\n",
        "            else:\n",
        "                # todo: modificar para [-lb, ub]?\n",
        "                lb, ub = output_bounds_binary_variables[j]\n",
        "                y[j].set_lb(lb)\n",
        "                y[j].set_ub(ub)\n",
        "                output_bounds.append([lb, ub])\n",
        "\n",
        "    return mdl, output_bounds"
      ],
      "metadata": {
        "id": "mu2cBOKXcejv"
      },
      "execution_count": 341,
      "outputs": []
    },
    {
      "cell_type": "markdown",
      "source": [
        "## Tjeng"
      ],
      "metadata": {
        "id": "-MHDgVVnckeb"
      }
    },
    {
      "cell_type": "code",
      "source": [
        "def codify_network_tjeng(\n",
        "    mdl,\n",
        "    layers,\n",
        "    input_variables,\n",
        "    intermediate_variables,\n",
        "    decision_variables,\n",
        "    output_variables,\n",
        "):\n",
        "    output_bounds = []\n",
        "\n",
        "    for i in range(len(layers)):\n",
        "        A = layers[i].get_weights()[0].T\n",
        "        b = layers[i].bias.numpy()\n",
        "        x = input_variables if i == 0 else intermediate_variables[i - 1]\n",
        "        if i != len(layers) - 1:\n",
        "            a = decision_variables[i]\n",
        "            y = intermediate_variables[i]\n",
        "        else:\n",
        "            y = output_variables\n",
        "\n",
        "        for j in range(A.shape[0]):\n",
        "            mdl.maximize(A[j, :] @ x + b[j])\n",
        "            mdl.solve()\n",
        "            ub = mdl.solution.get_objective_value()\n",
        "            mdl.remove_objective()\n",
        "\n",
        "            if ub <= 0 and i != len(layers) - 1:\n",
        "                # print(\"ENTROU, o ub é negativo, logo y = 0\")\n",
        "                mdl.add_constraint(y[j] == 0, ctname=f\"c_{i}_{j}\")\n",
        "                continue\n",
        "\n",
        "            mdl.minimize(A[j, :] @ x + b[j])\n",
        "            mdl.solve()\n",
        "            lb = mdl.solution.get_objective_value()\n",
        "            mdl.remove_objective()\n",
        "\n",
        "            if lb >= 0 and i != len(layers) - 1:\n",
        "                # print(\"ENTROU, o lb >= 0, logo y = Wx + b\")\n",
        "                mdl.add_constraint(A[j, :] @ x + b[j] ==\n",
        "                                   y[j], ctname=f\"c_{i}_{j}\")\n",
        "                continue\n",
        "\n",
        "            if i != len(layers) - 1:\n",
        "                mdl.add_constraint(y[j] <= A[j, :] @ x +\n",
        "                                   b[j] - lb * (1 - a[j]))\n",
        "                mdl.add_constraint(y[j] >= A[j, :] @ x + b[j])\n",
        "                mdl.add_constraint(y[j] <= ub * a[j])\n",
        "\n",
        "                # mdl.maximize(y[j])\n",
        "                # mdl.solve()\n",
        "                # ub_y = mdl.solution.get_objective_value()\n",
        "                # mdl.remove_objective()\n",
        "                # y[j].set_ub(ub_y)\n",
        "\n",
        "            else:\n",
        "                mdl.add_constraint(A[j, :] @ x + b[j] == y[j])\n",
        "                # y[j].set_ub(ub)\n",
        "                # y[j].set_lb(lb)\n",
        "                output_bounds.append([lb, ub])\n",
        "\n",
        "    return mdl, output_bounds"
      ],
      "metadata": {
        "id": "VANGH8sPcmDu"
      },
      "execution_count": 342,
      "outputs": []
    },
    {
      "cell_type": "markdown",
      "source": [
        "## Domain and Bounds"
      ],
      "metadata": {
        "id": "XSH0PzF7cqzD"
      }
    },
    {
      "cell_type": "code",
      "source": [
        "def get_domain_and_bounds_inputs(dataframe):\n",
        "    domain = []\n",
        "    bounds = []\n",
        "    for column in dataframe.columns[:-1]:\n",
        "        if len(dataframe[column].unique()) == 2:\n",
        "            domain.append(\"B\")\n",
        "            bound_inf = dataframe[column].min()\n",
        "            bound_sup = dataframe[column].max()\n",
        "            bounds.append([bound_inf, bound_sup])\n",
        "        elif np.any(\n",
        "            dataframe[column].unique().astype(np.int64)\n",
        "            != dataframe[column].unique().astype(np.float64)\n",
        "        ):\n",
        "            domain.append(\"C\")\n",
        "            bound_inf = dataframe[column].min()\n",
        "            bound_sup = dataframe[column].max()\n",
        "            bounds.append([bound_inf, bound_sup])\n",
        "        else:\n",
        "            domain.append(\"I\")\n",
        "            bound_inf = dataframe[column].min()\n",
        "            bound_sup = dataframe[column].max()\n",
        "            bounds.append([bound_inf, bound_sup])\n",
        "\n",
        "    return domain, bounds"
      ],
      "metadata": {
        "id": "0Lltuu4Ncs0X"
      },
      "execution_count": 343,
      "outputs": []
    },
    {
      "cell_type": "markdown",
      "source": [
        "## Codify Network"
      ],
      "metadata": {
        "id": "3Y5TJWfoc7Mj"
      }
    },
    {
      "cell_type": "markdown",
      "source": [
        "**X ---- E**\n",
        "\n",
        "x1 = 1 ∧ x2 = 3 ∧ F ∧ ¬E  \n",
        "*INSATISFÁTIVEL*\n",
        "\n",
        "x1 ≥ 0 ∧ x1 ≤ 100 ∧ x2 = 3 ∧ F ∧ ¬E  \n",
        "*INSATISFÁTIVEL* → x1 não é relevante,  \n",
        "*SATISFATÍVEL* → x1 é relevante\n"
      ],
      "metadata": {
        "id": "qft3cA3-c9rr"
      }
    },
    {
      "cell_type": "markdown",
      "source": [
        "### Original"
      ],
      "metadata": {
        "id": "DvC-LOM2dAGj"
      }
    },
    {
      "cell_type": "code",
      "source": [
        "def codify_network(model, dataframe, method, relaxe_constraints):\n",
        "    layers = model.layers\n",
        "    num_features = layers[0].get_weights()[0].shape[0]\n",
        "    mdl = mp.Model()\n",
        "\n",
        "    domain_input, bounds_input = get_domain_and_bounds_inputs(dataframe)\n",
        "    bounds_input = np.array(bounds_input)\n",
        "\n",
        "    if relaxe_constraints:\n",
        "        input_variables = mdl.continuous_var_list(\n",
        "            num_features, lb=bounds_input[:,\n",
        "                                          0], ub=bounds_input[:, 1], name=\"x\"\n",
        "        )\n",
        "    else:\n",
        "        input_variables = []\n",
        "        for i in range(len(domain_input)):\n",
        "            lb, ub = bounds_input[i]\n",
        "            if domain_input[i] == \"C\":\n",
        "                input_variables.append(\n",
        "                    mdl.continuous_var(lb=lb, ub=ub, name=f\"x_{i}\"))\n",
        "            elif domain_input[i] == \"I\":\n",
        "                input_variables.append(\n",
        "                    mdl.integer_var(lb=lb, ub=ub, name=f\"x_{i}\"))\n",
        "            elif domain_input[i] == \"B\":\n",
        "                input_variables.append(mdl.binary_var(name=f\"x_{i}\"))\n",
        "\n",
        "    intermediate_variables = []\n",
        "    auxiliary_variables = []\n",
        "    decision_variables = []\n",
        "\n",
        "    for i in range(len(layers) - 1):\n",
        "        weights = layers[i].get_weights()[0]\n",
        "        intermediate_variables.append(\n",
        "            mdl.continuous_var_list(\n",
        "                weights.shape[1], lb=0, name=\"y\", key_format=f\"_{i}_%s\"\n",
        "            )\n",
        "        )\n",
        "\n",
        "        if method == \"fischetti\":\n",
        "            auxiliary_variables.append(\n",
        "                mdl.continuous_var_list(\n",
        "                    weights.shape[1], lb=0, name=\"s\", key_format=f\"_{i}_%s\"\n",
        "                )\n",
        "            )\n",
        "\n",
        "        if relaxe_constraints and method == \"tjeng\":\n",
        "            decision_variables.append(\n",
        "                mdl.continuous_var_list(\n",
        "                    weights.shape[1], name=\"a\", lb=0, ub=1, key_format=f\"_{i}_%s\"\n",
        "                )\n",
        "            )\n",
        "        else:\n",
        "            decision_variables.append(\n",
        "                mdl.binary_var_list(\n",
        "                    weights.shape[1], name=\"a\", lb=0, ub=1, key_format=f\"_{i}_%s\"\n",
        "                )\n",
        "            )\n",
        "\n",
        "    output_variables = mdl.continuous_var_list(\n",
        "        layers[-1].get_weights()[0].shape[1], lb=-infinity, name=\"o\"\n",
        "    )\n",
        "\n",
        "    if method == \"tjeng\":\n",
        "        mdl, output_bounds = codify_network_tjeng(\n",
        "            mdl,\n",
        "            layers,\n",
        "            input_variables,\n",
        "            intermediate_variables,\n",
        "            decision_variables,\n",
        "            output_variables,\n",
        "        )\n",
        "    else:\n",
        "        mdl, output_bounds, bounds = codify_network_fischetti(\n",
        "            mdl,\n",
        "            layers,\n",
        "            input_variables,\n",
        "            auxiliary_variables,\n",
        "            intermediate_variables,\n",
        "            decision_variables,\n",
        "            output_variables,\n",
        "        )\n",
        "\n",
        "    if relaxe_constraints:\n",
        "        # Tighten domain of variables 'a'\n",
        "        for i in decision_variables:\n",
        "            for a in i:\n",
        "                a.set_vartype(\"Integer\")\n",
        "\n",
        "        # Tighten domain of input variables\n",
        "        for i, x in enumerate(input_variables):\n",
        "            if domain_input[i] == \"I\":\n",
        "                x.set_vartype(\"Integer\")\n",
        "            elif domain_input[i] == \"B\":\n",
        "                x.set_vartype(\"Binary\")\n",
        "            elif domain_input[i] == \"C\":\n",
        "                x.set_vartype(\"Continuous\")\n",
        "\n",
        "    return mdl, output_bounds, bounds\n"
      ],
      "metadata": {
        "id": "cuRp1ZWGc65T"
      },
      "execution_count": 344,
      "outputs": []
    },
    {
      "cell_type": "markdown",
      "source": [
        "### Relaxado"
      ],
      "metadata": {
        "id": "kPkmi5iZdHDa"
      }
    },
    {
      "cell_type": "code",
      "source": [
        "def codify_network_relaxed(\n",
        "    model, dataframe, method, relaxe_constraints, output_bounds_binary_variables, bounds\n",
        "):\n",
        "    layers = model.layers\n",
        "    num_features = layers[0].get_weights()[0].shape[0]\n",
        "    mdl = mp.Model()\n",
        "\n",
        "    domain_input, bounds_input = get_domain_and_bounds_inputs(dataframe)\n",
        "    bounds_input = np.array(bounds_input)\n",
        "\n",
        "    if relaxe_constraints:\n",
        "        input_variables = mdl.continuous_var_list(\n",
        "            num_features, lb=bounds_input[:,0], ub=bounds_input[:, 1], name=\"x\"\n",
        "        )\n",
        "    else:\n",
        "        input_variables = []\n",
        "        for i in range(len(domain_input)):\n",
        "            lb, ub = bounds_input[i]\n",
        "            input_variables.append(\n",
        "                mdl.continuous_var(lb=lb, ub=ub, name=f\"x_{i}\"))\n",
        "\n",
        "    intermediate_variables = []\n",
        "    auxiliary_variables = []\n",
        "    decision_variables = []\n",
        "\n",
        "    for i in range(len(layers) - 1):\n",
        "        weights = layers[i].get_weights()[0]\n",
        "        intermediate_variables.append(\n",
        "            mdl.continuous_var_list(\n",
        "                weights.shape[1], lb=0, name=\"y\", key_format=f\"_{i}_%s\"\n",
        "            )\n",
        "        )\n",
        "\n",
        "        if method == \"fischetti\":\n",
        "            auxiliary_variables.append(\n",
        "                mdl.continuous_var_list(\n",
        "                    weights.shape[1], lb=0, name=\"s\", key_format=f\"_{i}_%s\"\n",
        "                )\n",
        "            )\n",
        "\n",
        "        if relaxe_constraints and method == \"tjeng\":\n",
        "            decision_variables.append(\n",
        "                mdl.continuous_var_list(\n",
        "                    weights.shape[1], name=\"a\", lb=0, ub=1, key_format=f\"_{i}_%s\"\n",
        "                )\n",
        "            )\n",
        "        else:\n",
        "            # decision_variables.append(mdl.binary_var_list(weights.shape[1], name='a', lb=0, ub=1, key_format=f\"_{i}_%s\"))\n",
        "            decision_variables.append(\n",
        "                mdl.continuous_var_list(\n",
        "                    weights.shape[1], name=\"a\", lb=0, ub=1, key_format=f\"_{i}_%s\"\n",
        "                )\n",
        "            )\n",
        "\n",
        "    output_variables = mdl.continuous_var_list(\n",
        "        layers[-1].get_weights()[0].shape[1], lb=-infinity, name=\"o\"\n",
        "    )\n",
        "\n",
        "    if method == \"tjeng\":\n",
        "        mdl, output_bounds = codify_network_tjeng(\n",
        "            mdl,\n",
        "            layers,\n",
        "            input_variables,\n",
        "            intermediate_variables,\n",
        "            decision_variables,\n",
        "            output_variables,\n",
        "        )\n",
        "    else:\n",
        "        mdl, output_bounds = codify_network_fischetti_relaxed(\n",
        "            mdl,\n",
        "            layers,\n",
        "            input_variables,\n",
        "            auxiliary_variables,\n",
        "            intermediate_variables,\n",
        "            decision_variables,\n",
        "            output_variables,\n",
        "            output_bounds_binary_variables,\n",
        "            bounds=bounds\n",
        "        )\n",
        "\n",
        "    if relaxe_constraints:\n",
        "        # Tighten domain of variables 'a'\n",
        "        for i in decision_variables:\n",
        "            for a in i:\n",
        "                a.set_vartype(\"Continuous\")\n",
        "\n",
        "        # Tighten domain of input variables\n",
        "        for i, x in enumerate(input_variables):\n",
        "            x.set_vartype(\"Continuous\")\n",
        "\n",
        "    return mdl, output_bounds\n"
      ],
      "metadata": {
        "id": "TIyR9M-WdGLy"
      },
      "execution_count": 345,
      "outputs": []
    },
    {
      "cell_type": "markdown",
      "source": [
        "# Teste"
      ],
      "metadata": {
        "id": "dC7Rc_VpdNMg"
      }
    },
    {
      "cell_type": "markdown",
      "source": [
        "## Insert Outputs"
      ],
      "metadata": {
        "id": "2Sq1H5CsdRE5"
      }
    },
    {
      "cell_type": "code",
      "source": [
        "def insert_output_constraints_fischetti(\n",
        "    mdl, output_variables, network_output, binary_variables\n",
        "):\n",
        "    # print(binary_variables)\n",
        "    variable_output = output_variables[network_output]\n",
        "    aux_var = 0\n",
        "\n",
        "    for i, output in enumerate(output_variables):\n",
        "        if i != network_output:\n",
        "            p = binary_variables[aux_var]\n",
        "            aux_var += 1\n",
        "            mdl.add_indicator(p, variable_output <= output, 1)\n",
        "\n",
        "    return mdl\n",
        "\n",
        "def insert_output_constraints_tjeng(\n",
        "    mdl, output_variables, network_output, binary_variables, output_bounds\n",
        "):\n",
        "    variable_output = output_variables[network_output]\n",
        "    upper_bounds_diffs = (\n",
        "        output_bounds[network_output][1] - np.array(output_bounds)[:, 0]\n",
        "    )  # Output i: oi - oj <= u1 = ui - lj\n",
        "    aux_var = 0\n",
        "\n",
        "    for i, output in enumerate(output_variables):\n",
        "        if i != network_output:\n",
        "            ub = upper_bounds_diffs[i]\n",
        "            z = binary_variables[aux_var]\n",
        "            mdl.add_constraint(variable_output - output - ub * (1 - z) <= 0)\n",
        "            aux_var += 1\n",
        "\n",
        "    return mdl\n"
      ],
      "metadata": {
        "id": "KADB-MLEdK-j"
      },
      "execution_count": 346,
      "outputs": []
    },
    {
      "cell_type": "markdown",
      "source": [
        "## Explicações"
      ],
      "metadata": {
        "id": "_hvM4zE1dfZK"
      }
    },
    {
      "cell_type": "markdown",
      "source": [
        "### Original"
      ],
      "metadata": {
        "id": "rtofD941div2"
      }
    },
    {
      "cell_type": "code",
      "source": [
        "def get_minimal_explanation(\n",
        "    mdl,\n",
        "    network_input,\n",
        "    network_output,\n",
        "    n_classes,\n",
        "    method,\n",
        "    output_bounds=None,\n",
        "    initial_explanation=None,\n",
        ") -> Tuple[List[LinearConstraint], mp.Model]:\n",
        "    assert not (\n",
        "        method == \"tjeng\" and output_bounds == None\n",
        "    ), \"If the method tjeng is chosen, output_bounds must be passed.\"\n",
        "\n",
        "    output_variables = [mdl.get_var_by_name(f\"o_{i}\") for i in range(n_classes)]\n",
        "\n",
        "    if initial_explanation is None:\n",
        "        input_constraints = mdl.add_constraints(\n",
        "            [\n",
        "                mdl.get_var_by_name(f\"x_{i}\") == feature.numpy()\n",
        "                for i, feature in enumerate(network_input[0])\n",
        "            ],\n",
        "            names=\"input\",\n",
        "        )\n",
        "    else:\n",
        "        input_constraints = mdl.add_constraints(\n",
        "            [\n",
        "                mdl.get_var_by_name(f\"x_{i}\") == network_input[0][i].numpy()\n",
        "                for i in initial_explanation\n",
        "            ],\n",
        "            names=\"input\",\n",
        "        )\n",
        "\n",
        "    binary_variables = mdl.binary_var_list(n_classes - 1, name=\"b\")\n",
        "    mdl.add_constraint(mdl.sum(binary_variables) >= 1)\n",
        "    # todo: salvar modelo durante a explicação\n",
        "\n",
        "    if method == \"tjeng\":\n",
        "        mdl = insert_output_constraints_tjeng(\n",
        "            mdl, output_variables, network_output, binary_variables, output_bounds\n",
        "        )\n",
        "    else:\n",
        "        mdl = insert_output_constraints_fischetti(\n",
        "            mdl, output_variables, network_output, binary_variables\n",
        "        )\n",
        "\n",
        "    for constraint in input_constraints:\n",
        "        mdl.remove_constraint(constraint)\n",
        "\n",
        "        mdl.solve(log_output=False)\n",
        "        if mdl.solution is not None:\n",
        "            mdl.add_constraint(constraint)\n",
        "\n",
        "    inputs = mdl.find_matching_linear_constraints(\"input\")\n",
        "    return (inputs, mdl)\n",
        "    # return mdl.find_matching_linear_constraints(\"input\")"
      ],
      "metadata": {
        "id": "8e-_ffpNdgQq"
      },
      "execution_count": 347,
      "outputs": []
    },
    {
      "cell_type": "markdown",
      "source": [
        "### Relaxado"
      ],
      "metadata": {
        "id": "AGKGmPmadmAK"
      }
    },
    {
      "cell_type": "code",
      "source": [
        "def get_explanation_relaxed(\n",
        "    mdl: mp.Model,\n",
        "    network_input,\n",
        "    network_output,\n",
        "    n_classes,\n",
        "    method,\n",
        "    output_bounds=None,\n",
        "    initial_explanation=None,\n",
        "    delta=0.1,\n",
        ") -> Tuple[List[LinearConstraint], mp.Model]:\n",
        "    # todo: output_bounds só é relevante se o metodo for tjeng\n",
        "    assert not (\n",
        "        method == \"tjeng\" and output_bounds == None\n",
        "    ), \"If the method tjeng is chosen, output_bounds must be passed.\"\n",
        "\n",
        "    output_variables = [mdl.get_var_by_name(f\"o_{i}\") for i in range(n_classes)]\n",
        "\n",
        "    if initial_explanation is None:\n",
        "        input_constraints = mdl.add_constraints(\n",
        "            [\n",
        "                mdl.get_var_by_name(f\"x_{i}\") == feature.numpy()\n",
        "                for i, feature in enumerate(network_input[0])\n",
        "            ],\n",
        "            names=\"input\",\n",
        "        )\n",
        "    else:\n",
        "        input_constraints = mdl.add_constraints(\n",
        "            [\n",
        "                mdl.get_var_by_name(f\"x_{i}\") == network_input[0][i].numpy()\n",
        "                for i in initial_explanation\n",
        "            ],\n",
        "            names=\"input\",\n",
        "        )\n",
        "\n",
        "    binary_variables = mdl.binary_var_list(n_classes - 1, name=\"b\")\n",
        "    mdl.add_constraint(mdl.sum(binary_variables) >= 1)\n",
        "    # todo: salvar modelo durante a explicação\n",
        "\n",
        "    if method == \"tjeng\":\n",
        "        mdl = insert_output_constraints_tjeng(\n",
        "            mdl, output_variables, network_output, binary_variables, output_bounds\n",
        "        )\n",
        "\n",
        "    else:\n",
        "        mdl = insert_output_constraints_fischetti(\n",
        "            mdl, output_variables, network_output, binary_variables\n",
        "        )\n",
        "\n",
        "    for constraint in input_constraints:\n",
        "        mdl.remove_constraint(constraint)\n",
        "\n",
        "        x = constraint.get_left_expr()\n",
        "        v = constraint.get_right_expr()\n",
        "\n",
        "        constraint_left = mdl.add_constraint(v - delta <= x)\n",
        "        constraint_right = mdl.add_constraint(x <= v + delta)\n",
        "\n",
        "        mdl.solve(log_output=False)\n",
        "        if mdl.solution is not None:\n",
        "            mdl.add_constraint(constraint)\n",
        "            mdl.remove_constraint(constraint_left)\n",
        "            mdl.remove_constraint(constraint_right)\n",
        "\n",
        "    inputs = mdl.find_matching_linear_constraints(\"input\")\n",
        "    return (inputs, mdl)"
      ],
      "metadata": {
        "id": "AUK1dbs6dnkm"
      },
      "execution_count": 348,
      "outputs": []
    },
    {
      "cell_type": "markdown",
      "source": [
        "# Main"
      ],
      "metadata": {
        "id": "JQZLFPUDdqR1"
      }
    },
    {
      "cell_type": "markdown",
      "source": [
        "## Gerar Rede Neural"
      ],
      "metadata": {
        "id": "7rCXbEOqdr-n"
      }
    },
    {
      "cell_type": "code",
      "source": [
        "def gerar_rede(dir_path: str, num_classes: int, n_neurons: int, n_hidden_layers: int):\n",
        "    data_train = pd.read_csv(dir_path + \"\\\\\" + \"train.csv\").to_numpy()\n",
        "    data_test = pd.read_csv(dir_path + \"\\\\\" + \"test.csv\").to_numpy()\n",
        "\n",
        "    x_train, y_train = data_train[:, :-1], data_train[:, -1]\n",
        "    x_test, y_test = data_test[:, :-1], data_test[:, -1]\n",
        "\n",
        "    y_train_ohe = tf.keras.utils.to_categorical(\n",
        "        y_train, num_classes=num_classes)\n",
        "    y_test_ohe = tf.keras.utils.to_categorical(y_test, num_classes=num_classes)\n",
        "\n",
        "    model = tf.keras.Sequential(\n",
        "        [\n",
        "            tf.keras.layers.Input(shape=[x_train.shape[1]]),\n",
        "        ]\n",
        "    )\n",
        "\n",
        "    for _ in range(n_hidden_layers):\n",
        "        model.add(tf.keras.layers.Dense(n_neurons, activation=\"relu\"))\n",
        "\n",
        "    model.add(tf.keras.layers.Dense(num_classes, activation=\"softmax\"))\n",
        "\n",
        "    model.compile(\n",
        "        optimizer=tf.keras.optimizers.Adam(),\n",
        "        loss=\"categorical_crossentropy\",\n",
        "        metrics=[\"accuracy\"],\n",
        "    )\n",
        "\n",
        "    model_path = os.path.join(\n",
        "        dir_path, \"models\", f\"model_{n_hidden_layers}layers_{n_neurons}neurons.h5\"\n",
        "    )\n",
        "\n",
        "    es = tf.keras.callbacks.EarlyStopping(monitor=\"val_loss\", patience=10)\n",
        "    ck = tf.keras.callbacks.ModelCheckpoint(\n",
        "        model_path, monitor=\"val_accuracy\", save_best_only=True\n",
        "    )\n",
        "\n",
        "    start = time()\n",
        "    model.fit(\n",
        "        x_train,\n",
        "        y_train_ohe,\n",
        "        batch_size=4,\n",
        "        epochs=100,\n",
        "        validation_data=(x_test, y_test_ohe),\n",
        "        verbose=2,\n",
        "        callbacks=[ck, es],\n",
        "    )\n",
        "    print(f\"Tempo de Treinamento: {time()-start}\")\n",
        "\n",
        "    # salvar modelo\n",
        "    model = tf.keras.models.load_model(model_path)\n",
        "\n",
        "    # avaliar modelo com os dados de treinamento\n",
        "    print(\"Resultado Treinamento\")\n",
        "    model.evaluate(x_train, y_train_ohe, verbose=2)\n",
        "\n",
        "    # avaliar modelo com os dados de teste\n",
        "    print(\"Resultado Teste\")\n",
        "    model.evaluate(x_test, y_test_ohe, verbose=2)"
      ],
      "metadata": {
        "id": "lL6CYKbtdqpC"
      },
      "execution_count": 349,
      "outputs": []
    },
    {
      "cell_type": "code",
      "source": [
        "def gerar_rede_com_dataset_iris(n_neurons=20, n_hidden_layers=1):\n",
        "    dir_path = \"datasets\\\\iris\"\n",
        "    num_classes = 3\n",
        "    gerar_rede(dir_path, num_classes, n_neurons, n_hidden_layers)\n",
        "\n",
        "\n",
        "def gerar_rede_com_dataset_digits(n_neurons=20, n_hidden_layers=1):\n",
        "    dir_path = \"datasets\\\\digits\"\n",
        "    num_classes = 10\n",
        "    gerar_rede(dir_path, num_classes, n_neurons, n_hidden_layers)\n",
        "\n",
        "\n",
        "def gerar_rede_com_dataset_wine(n_neurons=20, n_hidden_layers=1):\n",
        "    dir_path = \"datasets\\\\wine\"\n",
        "    num_classes = 10\n",
        "    gerar_rede(dir_path, num_classes, n_neurons, n_hidden_layers)"
      ],
      "metadata": {
        "id": "grS-CB2-dwBb"
      },
      "execution_count": 350,
      "outputs": []
    },
    {
      "cell_type": "markdown",
      "source": [
        "## Explicar Instância"
      ],
      "metadata": {
        "id": "n8ipyf9odx1P"
      }
    },
    {
      "cell_type": "code",
      "source": [
        "def explain_instance(\n",
        "    initial_network,\n",
        "    configuration: dict,\n",
        "    instance_index: int,\n",
        "    data: pd.DataFrame,\n",
        "    model_h5,\n",
        "    n_classes\n",
        ") -> Tuple[List[LinearConstraint], mp.Model]:\n",
        "    method = configuration[\"method\"]\n",
        "    (\n",
        "        mdl_milp_with_binary_variable,\n",
        "        output_bounds_binary_variables,\n",
        "        bounds,\n",
        "    ) = initial_network\n",
        "    network_input = data.iloc[instance_index, :-1]\n",
        "    # print(network_input)  # network_input = instance\n",
        "    network_input = tf.reshape(tf.constant(network_input), (1, -1))\n",
        "    network_output = model_h5.predict(tf.constant(network_input))[0]\n",
        "    network_output = tf.argmax(network_output)\n",
        "    mdl_aux = mdl_milp_with_binary_variable.clone()\n",
        "    (explanation, model) = get_minimal_explanation(\n",
        "        mdl_aux,\n",
        "        network_input,\n",
        "        network_output,\n",
        "        n_classes=n_classes,\n",
        "        method=method,\n",
        "        output_bounds=output_bounds_binary_variables,\n",
        "    )\n",
        "\n",
        "    return (explanation, model)"
      ],
      "metadata": {
        "id": "XoVYHweWdyul"
      },
      "execution_count": 351,
      "outputs": []
    },
    {
      "cell_type": "code",
      "source": [
        "def explain_instance_relaxed(\n",
        "    initial_network,\n",
        "    initial_network_relaxed,\n",
        "    configuration: dict,\n",
        "    instance_index: int,\n",
        "    data: pd.DataFrame,\n",
        "    model_h5,\n",
        "    n_classes,\n",
        "    delta=1,\n",
        ") -> Tuple[List[LinearConstraint], mp.Model]:\n",
        "    method = configuration[\"method\"]\n",
        "    (\n",
        "        mdl_milp_with_binary_variable,\n",
        "        output_bounds_binary_variables,\n",
        "        bounds,\n",
        "    ) = initial_network\n",
        "\n",
        "    model_milp_relaxed, output_bounds_relaxed = initial_network_relaxed\n",
        "    network_input = data.iloc[instance_index, :-1]\n",
        "    # print(network_input)  # network_input = instance\n",
        "    network_input = tf.reshape(tf.constant(network_input), (1, -1))\n",
        "    network_output = model_h5.predict(tf.constant(network_input))[0]\n",
        "    network_output = tf.argmax(network_output)\n",
        "\n",
        "    mdl_aux = model_milp_relaxed.clone()\n",
        "\n",
        "    (explanation, model) = get_explanation_relaxed(\n",
        "        mdl_aux,\n",
        "        network_input,\n",
        "        network_output,\n",
        "        n_classes=n_classes,\n",
        "        method=method,\n",
        "        output_bounds=output_bounds_binary_variables,\n",
        "        delta=delta,\n",
        "    )\n",
        "\n",
        "    return (explanation, model)"
      ],
      "metadata": {
        "id": "Kp2a4nqOd1Nl"
      },
      "execution_count": 352,
      "outputs": []
    },
    {
      "cell_type": "markdown",
      "source": [
        "# Benchmark"
      ],
      "metadata": {
        "id": "GSeFHQg-eC0j"
      }
    },
    {
      "cell_type": "markdown",
      "source": [
        "## Datasets"
      ],
      "metadata": {
        "id": "9bf7TRqLd4WD"
      }
    },
    {
      "cell_type": "code",
      "source": [
        "@dataclass\n",
        "class Dataset:\n",
        "    dir_path: str\n",
        "    model: str\n",
        "    n_classes: int\n",
        "\n",
        "datasets: List[Dataset] = [\n",
        "    Dataset(\n",
        "        dir_path=f\"{datasets_path}/digits\",\n",
        "        model=\"models/model_0layers_20neurons.h5\",\n",
        "        n_classes=10,\n",
        "    ),\n",
        "    Dataset(\n",
        "        dir_path=f\"{datasets_path}/digits\",\n",
        "        model=\"models/model_1layers_20neurons.h5\",\n",
        "        n_classes=10,\n",
        "    ),\n",
        "    Dataset(\n",
        "        dir_path=f\"{datasets_path}/digits\",\n",
        "        model=\"models/model_2layers_20neurons.h5\",\n",
        "        n_classes=10,\n",
        "    ),\n",
        "    Dataset(\n",
        "        dir_path=f\"{datasets_path}/digits\",\n",
        "        model=\"models/model_3layers_20neurons.h5\",\n",
        "        n_classes=10,\n",
        "    ),\n",
        "    Dataset(\n",
        "        dir_path=f\"{datasets_path}/digits\",\n",
        "        model=\"models/model_4layers_20neurons.h5\",\n",
        "        n_classes=10,\n",
        "    ),\n",
        "    Dataset(\n",
        "        dir_path=f\"{datasets_path}/digits\",\n",
        "        model=\"models/model_5layers_20neurons.h5\",\n",
        "        n_classes=10,\n",
        "    ),\n",
        "    Dataset(\n",
        "        dir_path=f\"{datasets_path}/iris\",\n",
        "        model=\"models/model_1layers_20neurons.h5\",\n",
        "        n_classes=3,\n",
        "    ),\n",
        "    Dataset(\n",
        "        dir_path=f\"{datasets_path}/iris\",\n",
        "        model=\"models/model_6layers_20neurons.h5\",\n",
        "        n_classes=3,\n",
        "    ),\n",
        "]\n",
        "\n",
        "configurations = [{\"method\": \"fischetti\", \"relaxe_constraints\": True}]"
      ],
      "metadata": {
        "id": "g_EN0g04d12g"
      },
      "execution_count": 353,
      "outputs": []
    },
    {
      "cell_type": "markdown",
      "source": [
        "## Configurações"
      ],
      "metadata": {
        "id": "rWdeXNs5eHik"
      }
    },
    {
      "cell_type": "code",
      "source": [
        "def read_dataset(dir_path, model_h5_file):\n",
        "  data_test = pd.read_csv(f\"{dir_path}/test.csv\")\n",
        "  data_train = pd.read_csv(f\"{dir_path}/train.csv\")\n",
        "  data = data_train._append(data_test)\n",
        "\n",
        "  model_h5 = tf.keras.models.load_model(f\"{dir_path}/{model_h5_file}\")\n",
        "  return (data, model_h5)"
      ],
      "metadata": {
        "id": "9-lAhtyYd39D"
      },
      "execution_count": 354,
      "outputs": []
    },
    {
      "cell_type": "code",
      "source": [
        "dataset_index = 1\n",
        "dir_path, n_classes, model_h5_file = (\n",
        "    datasets[dataset_index].dir_path,\n",
        "    datasets[dataset_index].n_classes,\n",
        "    datasets[dataset_index].model,\n",
        ")\n",
        "\n",
        "configuration_index = 0\n",
        "method = configurations[configuration_index][\"method\"]\n",
        "relaxe_constraints = configurations[configuration_index][\"relaxe_constraints\"]\n",
        "(data, model_h5) = read_dataset(dir_path, model_h5_file)"
      ],
      "metadata": {
        "id": "t5vnPV7qeKLM"
      },
      "execution_count": 355,
      "outputs": []
    },
    {
      "cell_type": "markdown",
      "source": [
        "## Diretório dos resultados\n"
      ],
      "metadata": {
        "id": "Zsvjj3zIeM7M"
      }
    },
    {
      "cell_type": "code",
      "source": [
        "def create_results_directory(dir_path:str, model_h5_file:str)->str:\n",
        "  file_name_model = (f\"{dir_path}/{model_h5_file}\")\n",
        "  file_name_model_result = (f\"{dir_path}/results/{model_h5_file}\")\n",
        "  if not os.path.exists(file_name_model_result):\n",
        "      os.makedirs(file_name_model_result)\n",
        "  return file_name_model_result"
      ],
      "metadata": {
        "id": "_hFJScISIBkx"
      },
      "execution_count": 356,
      "outputs": []
    },
    {
      "cell_type": "code",
      "source": [
        "file_result = create_results_directory(dir_path, model_h5_file)"
      ],
      "metadata": {
        "id": "6yCnDUezeOmN"
      },
      "execution_count": 357,
      "outputs": []
    },
    {
      "cell_type": "code",
      "source": [
        "# data.to_csv(f\"{file_name_model_result}/result3.csv\")"
      ],
      "metadata": {
        "id": "ZZWVuCvHGBHH"
      },
      "execution_count": 358,
      "outputs": []
    },
    {
      "cell_type": "markdown",
      "source": [
        "## Modelos MILP"
      ],
      "metadata": {
        "id": "mJn7HQi6eQAs"
      }
    },
    {
      "cell_type": "markdown",
      "source": [
        "### Modelo MILP Original"
      ],
      "metadata": {
        "id": "1R7afKlEeSOy"
      }
    },
    {
      "cell_type": "code",
      "source": [
        "# todo: pegar output_bounds_binary_variables e bounds a partir do modelo já pronto, ao inves de salvar durante a modelagem\n",
        "# todo: modificar para verificar se o modelo já está codificado antes de codificar(ou seja, ler o arquivo .lp)\n",
        "initial_network = codify_network(model_h5, data, method, relaxe_constraints)\n",
        "(\n",
        "    mdl_milp_with_binary_variable,\n",
        "    output_bounds_binary_variables,\n",
        "    bounds,\n",
        ") = initial_network"
      ],
      "metadata": {
        "id": "-lY8TfBXeQ6t"
      },
      "execution_count": 359,
      "outputs": []
    },
    {
      "cell_type": "markdown",
      "source": [
        "### Modelo MILP Relaxado"
      ],
      "metadata": {
        "id": "WdrfSzyteWI6"
      }
    },
    {
      "cell_type": "code",
      "source": [
        "initial_network_relaxed = codify_network_relaxed(\n",
        "    model_h5,\n",
        "    data,\n",
        "    method,\n",
        "    relaxe_constraints,\n",
        "    output_bounds_binary_variables,\n",
        "    bounds=bounds,\n",
        ")"
      ],
      "metadata": {
        "id": "h2YpdAL7eW4p"
      },
      "execution_count": 360,
      "outputs": []
    },
    {
      "cell_type": "markdown",
      "source": [
        "### Salvar Modelos MILPs\n"
      ],
      "metadata": {
        "id": "oc3vCVLOeaXc"
      }
    },
    {
      "cell_type": "code",
      "source": [
        "def export_milp_as_lp(mdl: mp.Model, file: str):\n",
        "  mdl.export_as_lp(f\"{file}\")\n"
      ],
      "metadata": {
        "id": "LyiAjQxgeb4n"
      },
      "execution_count": 361,
      "outputs": []
    },
    {
      "cell_type": "markdown",
      "source": [
        "#### Salvar modelo MILP original\n"
      ],
      "metadata": {
        "id": "o644_PHOed4L"
      }
    },
    {
      "cell_type": "code",
      "source": [
        "export_milp_as_lp(mdl_milp_with_binary_variable, f'{file_result}/original')"
      ],
      "metadata": {
        "id": "fUSW7RsmegVK"
      },
      "execution_count": 362,
      "outputs": []
    },
    {
      "cell_type": "markdown",
      "source": [
        "#### Salvar modelo MILP relaxado"
      ],
      "metadata": {
        "id": "XchvYAd-eh28"
      }
    },
    {
      "cell_type": "code",
      "source": [
        "(mdl_relaxed, output_bounds_relaxed) = initial_network_relaxed\n",
        "export_milp_as_lp(mdl_relaxed, f'{file_result}/relaxed')"
      ],
      "metadata": {
        "id": "0pt6wnf2ejZX"
      },
      "execution_count": 363,
      "outputs": []
    },
    {
      "cell_type": "markdown",
      "source": [
        "### Abrir Modelos MILPs"
      ],
      "metadata": {
        "id": "IxO0qrEHepnn"
      }
    },
    {
      "cell_type": "markdown",
      "source": [
        "#### Abrir Modelo MILP Original"
      ],
      "metadata": {
        "id": "GOCRKvlter8h"
      }
    },
    {
      "cell_type": "code",
      "source": [
        "def read_cplex_model(file: str):\n",
        "  return cplex.Cplex(file)"
      ],
      "metadata": {
        "id": "TosENmMderiy"
      },
      "execution_count": 364,
      "outputs": []
    },
    {
      "cell_type": "code",
      "source": [
        "file_path_lp = f\"{file_result}/original.lp\"\n",
        "# model_read = cplex.Cplex(caminho_do_arquivo_lp)\n",
        "model_read = read_cplex_model(file_path_lp)"
      ],
      "metadata": {
        "id": "8390TqCsevQQ"
      },
      "execution_count": 365,
      "outputs": []
    },
    {
      "cell_type": "code",
      "source": [
        "var_names = model_read.variables.get_names()\n",
        "var_names_filtered = [nome for nome in var_names if nome.startswith('')]\n",
        "print(var_names_filtered.__str__())\n"
      ],
      "metadata": {
        "id": "esGECd7Wew9M",
        "colab": {
          "base_uri": "https://localhost:8080/"
        },
        "outputId": "29378014-9b1a-40b2-cd40-b2f9b1d7f7d0"
      },
      "execution_count": 366,
      "outputs": [
        {
          "output_type": "stream",
          "name": "stdout",
          "text": [
            "['x_0', 'x_1', 'x_2', 'x_3', 'x_4', 'x_5', 'x_6', 'x_7', 'x_8', 'x_9', 'x_10', 'x_11', 'x_12', 'x_13', 'x_14', 'x_15', 'x_16', 'x_17', 'x_18', 'x_19', 'x_20', 'x_21', 'x_22', 'x_23', 'x_24', 'x_25', 'x_26', 'x_27', 'x_28', 'x_29', 'x_30', 'x_31', 'x_32', 'x_33', 'x_34', 'x_35', 'x_36', 'x_37', 'x_38', 'x_39', 'x_40', 'x_41', 'x_42', 'x_43', 'x_44', 'x_45', 'x_46', 'x_47', 'x_48', 'x_49', 'x_50', 'x_51', 'x_52', 'x_53', 'x_54', 'x_55', 'x_56', 'x_57', 'x_58', 'x_59', 'x_60', 'x_61', 'x_62', 'x_63', 'y_0_0', 's_0_0', 'y_0_1', 's_0_1', 'y_0_2', 's_0_2', 'y_0_3', 's_0_3', 'y_0_4', 's_0_4', 'y_0_5', 's_0_5', 'y_0_6', 's_0_6', 'y_0_7', 's_0_7', 'y_0_8', 's_0_8', 'y_0_9', 's_0_9', 'y_0_10', 's_0_10', 'y_0_11', 's_0_11', 'y_0_12', 's_0_12', 'y_0_13', 's_0_13', 'y_0_14', 's_0_14', 'y_0_15', 's_0_15', 'y_0_16', 's_0_16', 'y_0_17', 's_0_17', 'y_0_18', 's_0_18', 'y_0_19', 's_0_19', 'o_0', 'o_1', 'o_2', 'o_3', 'o_4', 'o_5', 'o_6', 'o_7', 'o_8', 'o_9', 'a_0_0', 'a_0_1', 'a_0_2', 'a_0_3', 'a_0_4', 'a_0_5', 'a_0_6', 'a_0_7', 'a_0_8', 'a_0_9', 'a_0_10', 'a_0_11', 'a_0_12', 'a_0_13', 'a_0_14', 'a_0_15', 'a_0_16', 'a_0_17', 'a_0_18', 'a_0_19']\n"
          ]
        }
      ]
    },
    {
      "cell_type": "markdown",
      "source": [
        "#### Abrir Modelo MILP Relaxado"
      ],
      "metadata": {
        "id": "Fr_c4GWMezSE"
      }
    },
    {
      "cell_type": "code",
      "source": [
        "# todo: verificar se o codify está criando as variaveis \"o's\" corretamente\n",
        "path_file_lp_relaxed = f\"{file_result}/relaxed.lp\"\n",
        "model_relaxed_read = read_cplex_model(path_file_lp_relaxed)"
      ],
      "metadata": {
        "id": "46QUKXzte0uy",
        "colab": {
          "base_uri": "https://localhost:8080/"
        },
        "outputId": "5d136c8e-1389-4584-b825-abfbed3ceb6c"
      },
      "execution_count": 367,
      "outputs": [
        {
          "output_type": "stream",
          "name": "stderr",
          "text": [
            "Warning, line 534: Name 's_0_0' does not exist.\n",
            "Warning, line 535: Name 's_0_1' does not exist.\n",
            "Warning, line 536: Name 's_0_2' does not exist.\n",
            "Warning, line 537: Name 's_0_3' does not exist.\n",
            "Warning, line 538: Name 's_0_4' does not exist.\n",
            "Warning, line 539: Name 's_0_5' does not exist.\n",
            "Warning, line 540: Name 's_0_6' does not exist.\n",
            "Warning, line 541: Name 's_0_7' does not exist.\n",
            "Warning, line 542: Name 's_0_8' does not exist.\n",
            "Warning, line 543: Name 's_0_9' does not exist.\n",
            "Warning, line 544: Name 's_0_10' does not exist.\n",
            "Warning, line 545: Name 's_0_11' does not exist.\n",
            "Warning, line 546: Name 's_0_12' does not exist.\n",
            "Warning, line 547: Name 's_0_13' does not exist.\n",
            "Warning, line 548: Name 's_0_14' does not exist.\n",
            "Warning, line 549: Name 's_0_15' does not exist.\n",
            "Warning, line 550: Name 's_0_16' does not exist.\n",
            "Warning, line 551: Name 's_0_17' does not exist.\n",
            "Warning, line 552: Name 's_0_18' does not exist.\n",
            "Warning, line 553: Name 's_0_19' does not exist.\n",
            "30 name warnings not printed.\n"
          ]
        }
      ]
    },
    {
      "cell_type": "code",
      "source": [
        "var_names_relaxed = model_relaxed_read.variables.get_names()\n",
        "var_names_relaxed_filtered = [nome for nome in var_names_relaxed if nome.startswith('')]\n",
        "print(var_names_relaxed_filtered.__str__())"
      ],
      "metadata": {
        "id": "LMTubTbXe2P5",
        "colab": {
          "base_uri": "https://localhost:8080/"
        },
        "outputId": "1219aa09-545e-4637-9d4c-229b4db1fc2b"
      },
      "execution_count": 368,
      "outputs": [
        {
          "output_type": "stream",
          "name": "stdout",
          "text": [
            "['x_0', 'x_1', 'x_2', 'x_3', 'x_4', 'x_5', 'x_6', 'x_7', 'x_8', 'x_9', 'x_10', 'x_11', 'x_12', 'x_13', 'x_14', 'x_15', 'x_16', 'x_17', 'x_18', 'x_19', 'x_20', 'x_21', 'x_22', 'x_23', 'x_24', 'x_25', 'x_26', 'x_27', 'x_28', 'x_29', 'x_30', 'x_31', 'x_32', 'x_33', 'x_34', 'x_35', 'x_36', 'x_37', 'x_38', 'x_39', 'x_40', 'x_41', 'x_42', 'x_43', 'x_44', 'x_45', 'x_46', 'x_47', 'x_48', 'x_49', 'x_50', 'x_51', 'x_52', 'x_53', 'x_54', 'x_55', 'x_56', 'x_57', 'x_58', 'x_59', 'x_60', 'x_61', 'x_62', 'x_63', 'y_0_0', 'y_0_1', 'y_0_2', 'y_0_3', 'y_0_4', 'y_0_5', 'y_0_6', 'y_0_7', 'y_0_8', 'y_0_9', 'y_0_10', 'y_0_11', 'y_0_12', 'y_0_13', 'y_0_14', 'y_0_15', 'y_0_16', 'y_0_17', 'y_0_18', 'y_0_19']\n"
          ]
        }
      ]
    },
    {
      "cell_type": "markdown",
      "source": [
        "## Executar Benchmark"
      ],
      "metadata": {
        "id": "5_wF83Kxe4DQ"
      }
    },
    {
      "cell_type": "code",
      "source": [
        "def convert_string_to_pixel(pixel_str: str, matrix_size: tuple[int, int]) -> tuple[int, int]:\n",
        "    # Remover o prefixo \"x_\"\n",
        "    pixel_number = int(pixel_str.split(\"_\")[1])\n",
        "    # Obter as dimensões da matriz\n",
        "    rows, cols = matrix_size\n",
        "    # Calcular as coordenadas do pixel\n",
        "    row_index = pixel_number // rows\n",
        "    col_index = pixel_number % cols\n",
        "\n",
        "    return row_index, col_index\n",
        "\n",
        "def get_coordinates_from_explanation(\n",
        "  explanation: list[LinearConstraint],\n",
        "  matrix_size: tuple[int, int],\n",
        ") -> list[tuple[int, int]]:\n",
        "    coordinates = []\n",
        "    for constraint in explanation:\n",
        "        # Extrair coordenadas da variável associada à restrição linear\n",
        "        variable_name = constraint.left_expr.name\n",
        "        x, y = convert_string_to_pixel(variable_name, matrix_size)\n",
        "        coordinates.append((x, y))\n",
        "    return coordinates"
      ],
      "metadata": {
        "id": "xAPYsvcTe7Di"
      },
      "execution_count": 369,
      "outputs": []
    },
    {
      "cell_type": "code",
      "source": [
        "def benchmark_instance(\n",
        "    path: str, instance_index: int, delta=0.1, use_milp_original=False\n",
        "):\n",
        "    print(instance_index)\n",
        "    directory = f\"{path}\"\n",
        "    if not os.path.exists(directory):\n",
        "        os.makedirs(directory)\n",
        "    file_results = f\"{directory}/df.csv\"\n",
        "    if os.path.exists(file_results):\n",
        "        resultados = pd.read_csv(file_results)\n",
        "    else:\n",
        "        resultados = pd.DataFrame(\n",
        "            columns=[\n",
        "                \"instance_index\",\n",
        "                \"tempo_original\",\n",
        "                \"tempo_relaxado\",\n",
        "                \"tempo_relaxado_global\",\n",
        "                \"len_original\",\n",
        "                \"len_relaxado\",\n",
        "                \"len_relaxado_global\",\n",
        "                \"delta\",\n",
        "                \"explanation\",\n",
        "                \"explanation_relaxed\",\n",
        "                \"explanation_relaxed_global\",\n",
        "            ]\n",
        "        )\n",
        "\n",
        "    (\n",
        "        tempo_original,\n",
        "        len_original,\n",
        "        explanation\n",
        "    ) = [None] * 3\n",
        "    if use_milp_original:\n",
        "        # explain_instance original\n",
        "        start_time = time()\n",
        "        (explanation, model_milp_original) = explain_instance(\n",
        "            initial_network = initial_network,\n",
        "            configuration = configurations[0],\n",
        "            instance_index = instance_index,\n",
        "            data = data,\n",
        "            model_h5 = model_h5,\n",
        "            n_classes = n_classes\n",
        "        )\n",
        "        end_time = time()\n",
        "        tempo_original = end_time - start_time\n",
        "        len_original = len(explanation)\n",
        "\n",
        "    # explain_instance_relaxed local\n",
        "    start_time = time()\n",
        "    (explanation_relaxed, model_milp_relaxed) = explain_instance_relaxed(\n",
        "        initial_network = initial_network,\n",
        "        initial_network_relaxed = initial_network_relaxed,\n",
        "        configuration = configurations[0],\n",
        "        instance_index = instance_index,\n",
        "        data = data,\n",
        "        model_h5 = model_h5,\n",
        "        n_classes = n_classes,\n",
        "        delta=delta,\n",
        "    )\n",
        "\n",
        "    end_time = time()\n",
        "    tempo_relaxado = end_time - start_time\n",
        "    len_relaxado = len(explanation_relaxed)\n",
        "\n",
        "    # explain_instance_relaxed global\n",
        "    start_time = time()\n",
        "    (explanation_relaxed_global, model_milp_relaxed_global) = explain_instance_relaxed(\n",
        "        initial_network = initial_network,\n",
        "        initial_network_relaxed = initial_network_relaxed,\n",
        "        configuration = configurations[0], #todo: modificar para passar o metodo diretamente\n",
        "        instance_index = instance_index,\n",
        "        data = data,\n",
        "        model_h5 = model_h5,\n",
        "        n_classes = n_classes,\n",
        "        delta=1,  # global\n",
        "    )\n",
        "\n",
        "    end_time = time()\n",
        "    tempo_relaxado_global = end_time - start_time\n",
        "    len_relaxado_global = len(explanation_relaxed_global)\n",
        "\n",
        "    resultados.loc[len(resultados)] = [\n",
        "        instance_index,\n",
        "        tempo_original,\n",
        "        tempo_relaxado,\n",
        "        tempo_relaxado_global,\n",
        "        len_original,\n",
        "        len_relaxado,\n",
        "        len_relaxado_global,\n",
        "        delta,\n",
        "        get_coordinates_from_explanation(explanation, (8, 8)) if explanation is not None else None,\n",
        "        get_coordinates_from_explanation(explanation_relaxed, (8, 8)),\n",
        "        get_coordinates_from_explanation(explanation_relaxed_global, (8, 8)),\n",
        "    ]\n",
        "\n",
        "    # exportar modelos\n",
        "    export_milp_as_lp(model_milp_original, f\"{directory}/original_after\")\n",
        "    export_milp_as_lp(model_milp_original, f\"{directory}/relaxed_after\")\n",
        "    export_milp_as_lp(model_milp_original, f\"{directory}/relaxed_global_after\")\n",
        "\n",
        "    # salvar\n",
        "    resultados.to_csv(file_results, index=False)\n",
        "    return [explanation, explanation_relaxed, explanation_relaxed_global]"
      ],
      "metadata": {
        "id": "kMccEvHge6Oj"
      },
      "execution_count": 370,
      "outputs": []
    },
    {
      "cell_type": "code",
      "source": [
        "path = f\"{file_result}\"\n",
        "delta = 0.7\n",
        "for index in range(0, 9):\n",
        "  # index = 6\n",
        "  r = benchmark_instance(\n",
        "    path=path,\n",
        "    instance_index=index,\n",
        "    delta=delta,\n",
        "    use_milp_original=True\n",
        "    )"
      ],
      "metadata": {
        "id": "eyN9Ia_tfByq",
        "colab": {
          "base_uri": "https://localhost:8080/"
        },
        "outputId": "765c50a4-50b0-4e59-8843-22a2f6a01c6f"
      },
      "execution_count": 378,
      "outputs": [
        {
          "output_type": "stream",
          "name": "stdout",
          "text": [
            "0\n",
            "1/1 [==============================] - 0s 62ms/step\n",
            "1/1 [==============================] - 0s 21ms/step\n",
            "1/1 [==============================] - 0s 34ms/step\n",
            "1\n",
            "1/1 [==============================] - 0s 31ms/step\n",
            "1/1 [==============================] - 0s 21ms/step\n",
            "1/1 [==============================] - 0s 21ms/step\n",
            "2\n",
            "1/1 [==============================] - 0s 21ms/step\n",
            "1/1 [==============================] - 0s 20ms/step\n",
            "1/1 [==============================] - 0s 24ms/step\n",
            "3\n",
            "1/1 [==============================] - 0s 22ms/step\n",
            "1/1 [==============================] - 0s 20ms/step\n",
            "1/1 [==============================] - 0s 20ms/step\n",
            "4\n",
            "1/1 [==============================] - 0s 24ms/step\n",
            "1/1 [==============================] - 0s 23ms/step\n",
            "1/1 [==============================] - 0s 20ms/step\n",
            "5\n",
            "1/1 [==============================] - 0s 31ms/step\n",
            "1/1 [==============================] - 0s 21ms/step\n",
            "1/1 [==============================] - 0s 21ms/step\n",
            "6\n",
            "1/1 [==============================] - 0s 21ms/step\n",
            "1/1 [==============================] - 0s 21ms/step\n",
            "1/1 [==============================] - 0s 24ms/step\n",
            "7\n",
            "1/1 [==============================] - 0s 20ms/step\n",
            "1/1 [==============================] - 0s 21ms/step\n",
            "1/1 [==============================] - 0s 21ms/step\n",
            "8\n",
            "1/1 [==============================] - 0s 20ms/step\n",
            "1/1 [==============================] - 0s 20ms/step\n",
            "1/1 [==============================] - 0s 21ms/step\n"
          ]
        }
      ]
    },
    {
      "cell_type": "code",
      "source": [
        "result_df = pd.read_csv(f'{file_result}/df.csv')"
      ],
      "metadata": {
        "id": "JlB8hii6S2Bv"
      },
      "execution_count": 379,
      "outputs": []
    },
    {
      "cell_type": "code",
      "source": [
        "result_df[[\"instance_index\",\t\"tempo_original\",\t\"tempo_relaxado\",\t\"tempo_relaxado_global\",\t\"len_original\",\t\"len_relaxado\",\t\"len_relaxado_global\",\t\"delta\"]]"
      ],
      "metadata": {
        "colab": {
          "base_uri": "https://localhost:8080/",
          "height": 332
        },
        "id": "qUDe6owTTTHa",
        "outputId": "9ca8508c-8fd2-4222-a346-bb1c401cc180"
      },
      "execution_count": 380,
      "outputs": [
        {
          "output_type": "execute_result",
          "data": {
            "text/plain": [
              "   instance_index  tempo_original  tempo_relaxado  tempo_relaxado_global  \\\n",
              "0               0        1.824829        0.647120               0.770094   \n",
              "1               1        3.344312        0.586576               0.547331   \n",
              "2               2        1.476407        0.530838               0.532079   \n",
              "3               3        1.379243        0.500143               0.490699   \n",
              "4               4        1.609786        0.538788               0.704136   \n",
              "5               5        2.976138        0.553387               0.547208   \n",
              "6               6        1.556840        0.547644               0.570123   \n",
              "7               7        2.338710        0.519520               0.539383   \n",
              "8               8        1.493572        0.500194               0.676789   \n",
              "\n",
              "   len_original  len_relaxado  len_relaxado_global  delta  \n",
              "0            43            35                   33    0.7  \n",
              "1            43            46                   42    0.7  \n",
              "2            44            26                   29    0.7  \n",
              "3            44            32                   33    0.7  \n",
              "4            46            29                   35    0.7  \n",
              "5            44            39                   40    0.7  \n",
              "6            44            34                   33    0.7  \n",
              "7            40            32                   40    0.7  \n",
              "8            40            37                   41    0.7  "
            ],
            "text/html": [
              "\n",
              "  <div id=\"df-c136f4f3-dea6-46de-8922-5d8fbaba8389\" class=\"colab-df-container\">\n",
              "    <div>\n",
              "<style scoped>\n",
              "    .dataframe tbody tr th:only-of-type {\n",
              "        vertical-align: middle;\n",
              "    }\n",
              "\n",
              "    .dataframe tbody tr th {\n",
              "        vertical-align: top;\n",
              "    }\n",
              "\n",
              "    .dataframe thead th {\n",
              "        text-align: right;\n",
              "    }\n",
              "</style>\n",
              "<table border=\"1\" class=\"dataframe\">\n",
              "  <thead>\n",
              "    <tr style=\"text-align: right;\">\n",
              "      <th></th>\n",
              "      <th>instance_index</th>\n",
              "      <th>tempo_original</th>\n",
              "      <th>tempo_relaxado</th>\n",
              "      <th>tempo_relaxado_global</th>\n",
              "      <th>len_original</th>\n",
              "      <th>len_relaxado</th>\n",
              "      <th>len_relaxado_global</th>\n",
              "      <th>delta</th>\n",
              "    </tr>\n",
              "  </thead>\n",
              "  <tbody>\n",
              "    <tr>\n",
              "      <th>0</th>\n",
              "      <td>0</td>\n",
              "      <td>1.824829</td>\n",
              "      <td>0.647120</td>\n",
              "      <td>0.770094</td>\n",
              "      <td>43</td>\n",
              "      <td>35</td>\n",
              "      <td>33</td>\n",
              "      <td>0.7</td>\n",
              "    </tr>\n",
              "    <tr>\n",
              "      <th>1</th>\n",
              "      <td>1</td>\n",
              "      <td>3.344312</td>\n",
              "      <td>0.586576</td>\n",
              "      <td>0.547331</td>\n",
              "      <td>43</td>\n",
              "      <td>46</td>\n",
              "      <td>42</td>\n",
              "      <td>0.7</td>\n",
              "    </tr>\n",
              "    <tr>\n",
              "      <th>2</th>\n",
              "      <td>2</td>\n",
              "      <td>1.476407</td>\n",
              "      <td>0.530838</td>\n",
              "      <td>0.532079</td>\n",
              "      <td>44</td>\n",
              "      <td>26</td>\n",
              "      <td>29</td>\n",
              "      <td>0.7</td>\n",
              "    </tr>\n",
              "    <tr>\n",
              "      <th>3</th>\n",
              "      <td>3</td>\n",
              "      <td>1.379243</td>\n",
              "      <td>0.500143</td>\n",
              "      <td>0.490699</td>\n",
              "      <td>44</td>\n",
              "      <td>32</td>\n",
              "      <td>33</td>\n",
              "      <td>0.7</td>\n",
              "    </tr>\n",
              "    <tr>\n",
              "      <th>4</th>\n",
              "      <td>4</td>\n",
              "      <td>1.609786</td>\n",
              "      <td>0.538788</td>\n",
              "      <td>0.704136</td>\n",
              "      <td>46</td>\n",
              "      <td>29</td>\n",
              "      <td>35</td>\n",
              "      <td>0.7</td>\n",
              "    </tr>\n",
              "    <tr>\n",
              "      <th>5</th>\n",
              "      <td>5</td>\n",
              "      <td>2.976138</td>\n",
              "      <td>0.553387</td>\n",
              "      <td>0.547208</td>\n",
              "      <td>44</td>\n",
              "      <td>39</td>\n",
              "      <td>40</td>\n",
              "      <td>0.7</td>\n",
              "    </tr>\n",
              "    <tr>\n",
              "      <th>6</th>\n",
              "      <td>6</td>\n",
              "      <td>1.556840</td>\n",
              "      <td>0.547644</td>\n",
              "      <td>0.570123</td>\n",
              "      <td>44</td>\n",
              "      <td>34</td>\n",
              "      <td>33</td>\n",
              "      <td>0.7</td>\n",
              "    </tr>\n",
              "    <tr>\n",
              "      <th>7</th>\n",
              "      <td>7</td>\n",
              "      <td>2.338710</td>\n",
              "      <td>0.519520</td>\n",
              "      <td>0.539383</td>\n",
              "      <td>40</td>\n",
              "      <td>32</td>\n",
              "      <td>40</td>\n",
              "      <td>0.7</td>\n",
              "    </tr>\n",
              "    <tr>\n",
              "      <th>8</th>\n",
              "      <td>8</td>\n",
              "      <td>1.493572</td>\n",
              "      <td>0.500194</td>\n",
              "      <td>0.676789</td>\n",
              "      <td>40</td>\n",
              "      <td>37</td>\n",
              "      <td>41</td>\n",
              "      <td>0.7</td>\n",
              "    </tr>\n",
              "  </tbody>\n",
              "</table>\n",
              "</div>\n",
              "    <div class=\"colab-df-buttons\">\n",
              "\n",
              "  <div class=\"colab-df-container\">\n",
              "    <button class=\"colab-df-convert\" onclick=\"convertToInteractive('df-c136f4f3-dea6-46de-8922-5d8fbaba8389')\"\n",
              "            title=\"Convert this dataframe to an interactive table.\"\n",
              "            style=\"display:none;\">\n",
              "\n",
              "  <svg xmlns=\"http://www.w3.org/2000/svg\" height=\"24px\" viewBox=\"0 -960 960 960\">\n",
              "    <path d=\"M120-120v-720h720v720H120Zm60-500h600v-160H180v160Zm220 220h160v-160H400v160Zm0 220h160v-160H400v160ZM180-400h160v-160H180v160Zm440 0h160v-160H620v160ZM180-180h160v-160H180v160Zm440 0h160v-160H620v160Z\"/>\n",
              "  </svg>\n",
              "    </button>\n",
              "\n",
              "  <style>\n",
              "    .colab-df-container {\n",
              "      display:flex;\n",
              "      gap: 12px;\n",
              "    }\n",
              "\n",
              "    .colab-df-convert {\n",
              "      background-color: #E8F0FE;\n",
              "      border: none;\n",
              "      border-radius: 50%;\n",
              "      cursor: pointer;\n",
              "      display: none;\n",
              "      fill: #1967D2;\n",
              "      height: 32px;\n",
              "      padding: 0 0 0 0;\n",
              "      width: 32px;\n",
              "    }\n",
              "\n",
              "    .colab-df-convert:hover {\n",
              "      background-color: #E2EBFA;\n",
              "      box-shadow: 0px 1px 2px rgba(60, 64, 67, 0.3), 0px 1px 3px 1px rgba(60, 64, 67, 0.15);\n",
              "      fill: #174EA6;\n",
              "    }\n",
              "\n",
              "    .colab-df-buttons div {\n",
              "      margin-bottom: 4px;\n",
              "    }\n",
              "\n",
              "    [theme=dark] .colab-df-convert {\n",
              "      background-color: #3B4455;\n",
              "      fill: #D2E3FC;\n",
              "    }\n",
              "\n",
              "    [theme=dark] .colab-df-convert:hover {\n",
              "      background-color: #434B5C;\n",
              "      box-shadow: 0px 1px 3px 1px rgba(0, 0, 0, 0.15);\n",
              "      filter: drop-shadow(0px 1px 2px rgba(0, 0, 0, 0.3));\n",
              "      fill: #FFFFFF;\n",
              "    }\n",
              "  </style>\n",
              "\n",
              "    <script>\n",
              "      const buttonEl =\n",
              "        document.querySelector('#df-c136f4f3-dea6-46de-8922-5d8fbaba8389 button.colab-df-convert');\n",
              "      buttonEl.style.display =\n",
              "        google.colab.kernel.accessAllowed ? 'block' : 'none';\n",
              "\n",
              "      async function convertToInteractive(key) {\n",
              "        const element = document.querySelector('#df-c136f4f3-dea6-46de-8922-5d8fbaba8389');\n",
              "        const dataTable =\n",
              "          await google.colab.kernel.invokeFunction('convertToInteractive',\n",
              "                                                    [key], {});\n",
              "        if (!dataTable) return;\n",
              "\n",
              "        const docLinkHtml = 'Like what you see? Visit the ' +\n",
              "          '<a target=\"_blank\" href=https://colab.research.google.com/notebooks/data_table.ipynb>data table notebook</a>'\n",
              "          + ' to learn more about interactive tables.';\n",
              "        element.innerHTML = '';\n",
              "        dataTable['output_type'] = 'display_data';\n",
              "        await google.colab.output.renderOutput(dataTable, element);\n",
              "        const docLink = document.createElement('div');\n",
              "        docLink.innerHTML = docLinkHtml;\n",
              "        element.appendChild(docLink);\n",
              "      }\n",
              "    </script>\n",
              "  </div>\n",
              "\n",
              "\n",
              "<div id=\"df-b31e25a5-2a65-4f88-99ea-67e17171781a\">\n",
              "  <button class=\"colab-df-quickchart\" onclick=\"quickchart('df-b31e25a5-2a65-4f88-99ea-67e17171781a')\"\n",
              "            title=\"Suggest charts\"\n",
              "            style=\"display:none;\">\n",
              "\n",
              "<svg xmlns=\"http://www.w3.org/2000/svg\" height=\"24px\"viewBox=\"0 0 24 24\"\n",
              "     width=\"24px\">\n",
              "    <g>\n",
              "        <path d=\"M19 3H5c-1.1 0-2 .9-2 2v14c0 1.1.9 2 2 2h14c1.1 0 2-.9 2-2V5c0-1.1-.9-2-2-2zM9 17H7v-7h2v7zm4 0h-2V7h2v10zm4 0h-2v-4h2v4z\"/>\n",
              "    </g>\n",
              "</svg>\n",
              "  </button>\n",
              "\n",
              "<style>\n",
              "  .colab-df-quickchart {\n",
              "      --bg-color: #E8F0FE;\n",
              "      --fill-color: #1967D2;\n",
              "      --hover-bg-color: #E2EBFA;\n",
              "      --hover-fill-color: #174EA6;\n",
              "      --disabled-fill-color: #AAA;\n",
              "      --disabled-bg-color: #DDD;\n",
              "  }\n",
              "\n",
              "  [theme=dark] .colab-df-quickchart {\n",
              "      --bg-color: #3B4455;\n",
              "      --fill-color: #D2E3FC;\n",
              "      --hover-bg-color: #434B5C;\n",
              "      --hover-fill-color: #FFFFFF;\n",
              "      --disabled-bg-color: #3B4455;\n",
              "      --disabled-fill-color: #666;\n",
              "  }\n",
              "\n",
              "  .colab-df-quickchart {\n",
              "    background-color: var(--bg-color);\n",
              "    border: none;\n",
              "    border-radius: 50%;\n",
              "    cursor: pointer;\n",
              "    display: none;\n",
              "    fill: var(--fill-color);\n",
              "    height: 32px;\n",
              "    padding: 0;\n",
              "    width: 32px;\n",
              "  }\n",
              "\n",
              "  .colab-df-quickchart:hover {\n",
              "    background-color: var(--hover-bg-color);\n",
              "    box-shadow: 0 1px 2px rgba(60, 64, 67, 0.3), 0 1px 3px 1px rgba(60, 64, 67, 0.15);\n",
              "    fill: var(--button-hover-fill-color);\n",
              "  }\n",
              "\n",
              "  .colab-df-quickchart-complete:disabled,\n",
              "  .colab-df-quickchart-complete:disabled:hover {\n",
              "    background-color: var(--disabled-bg-color);\n",
              "    fill: var(--disabled-fill-color);\n",
              "    box-shadow: none;\n",
              "  }\n",
              "\n",
              "  .colab-df-spinner {\n",
              "    border: 2px solid var(--fill-color);\n",
              "    border-color: transparent;\n",
              "    border-bottom-color: var(--fill-color);\n",
              "    animation:\n",
              "      spin 1s steps(1) infinite;\n",
              "  }\n",
              "\n",
              "  @keyframes spin {\n",
              "    0% {\n",
              "      border-color: transparent;\n",
              "      border-bottom-color: var(--fill-color);\n",
              "      border-left-color: var(--fill-color);\n",
              "    }\n",
              "    20% {\n",
              "      border-color: transparent;\n",
              "      border-left-color: var(--fill-color);\n",
              "      border-top-color: var(--fill-color);\n",
              "    }\n",
              "    30% {\n",
              "      border-color: transparent;\n",
              "      border-left-color: var(--fill-color);\n",
              "      border-top-color: var(--fill-color);\n",
              "      border-right-color: var(--fill-color);\n",
              "    }\n",
              "    40% {\n",
              "      border-color: transparent;\n",
              "      border-right-color: var(--fill-color);\n",
              "      border-top-color: var(--fill-color);\n",
              "    }\n",
              "    60% {\n",
              "      border-color: transparent;\n",
              "      border-right-color: var(--fill-color);\n",
              "    }\n",
              "    80% {\n",
              "      border-color: transparent;\n",
              "      border-right-color: var(--fill-color);\n",
              "      border-bottom-color: var(--fill-color);\n",
              "    }\n",
              "    90% {\n",
              "      border-color: transparent;\n",
              "      border-bottom-color: var(--fill-color);\n",
              "    }\n",
              "  }\n",
              "</style>\n",
              "\n",
              "  <script>\n",
              "    async function quickchart(key) {\n",
              "      const quickchartButtonEl =\n",
              "        document.querySelector('#' + key + ' button');\n",
              "      quickchartButtonEl.disabled = true;  // To prevent multiple clicks.\n",
              "      quickchartButtonEl.classList.add('colab-df-spinner');\n",
              "      try {\n",
              "        const charts = await google.colab.kernel.invokeFunction(\n",
              "            'suggestCharts', [key], {});\n",
              "      } catch (error) {\n",
              "        console.error('Error during call to suggestCharts:', error);\n",
              "      }\n",
              "      quickchartButtonEl.classList.remove('colab-df-spinner');\n",
              "      quickchartButtonEl.classList.add('colab-df-quickchart-complete');\n",
              "    }\n",
              "    (() => {\n",
              "      let quickchartButtonEl =\n",
              "        document.querySelector('#df-b31e25a5-2a65-4f88-99ea-67e17171781a button');\n",
              "      quickchartButtonEl.style.display =\n",
              "        google.colab.kernel.accessAllowed ? 'block' : 'none';\n",
              "    })();\n",
              "  </script>\n",
              "</div>\n",
              "\n",
              "    </div>\n",
              "  </div>\n"
            ],
            "application/vnd.google.colaboratory.intrinsic+json": {
              "type": "dataframe",
              "summary": "{\n  \"name\": \"result_df[[\\\"instance_index\\\",\\t\\\"tempo_original\\\",\\t\\\"tempo_relaxado\\\",\\t\\\"tempo_relaxado_global\\\",\\t\\\"len_original\\\",\\t\\\"len_relaxado\\\",\\t\\\"len_relaxado_global\\\",\\t\\\"delta\\\"]]\",\n  \"rows\": 9,\n  \"fields\": [\n    {\n      \"column\": \"instance_index\",\n      \"properties\": {\n        \"dtype\": \"number\",\n        \"std\": 2,\n        \"min\": 0,\n        \"max\": 8,\n        \"num_unique_values\": 9,\n        \"samples\": [\n          7,\n          1,\n          5\n        ],\n        \"semantic_type\": \"\",\n        \"description\": \"\"\n      }\n    },\n    {\n      \"column\": \"tempo_original\",\n      \"properties\": {\n        \"dtype\": \"number\",\n        \"std\": 0.7219803733467236,\n        \"min\": 1.3792426586151123,\n        \"max\": 3.344311714172364,\n        \"num_unique_values\": 9,\n        \"samples\": [\n          2.338710069656372,\n          3.344311714172364,\n          2.9761383533477783\n        ],\n        \"semantic_type\": \"\",\n        \"description\": \"\"\n      }\n    },\n    {\n      \"column\": \"tempo_relaxado\",\n      \"properties\": {\n        \"dtype\": \"number\",\n        \"std\": 0.04623516425412984,\n        \"min\": 0.5001430511474609,\n        \"max\": 0.6471202373504639,\n        \"num_unique_values\": 9,\n        \"samples\": [\n          0.5195202827453613,\n          0.5865755081176758,\n          0.5533874034881592\n        ],\n        \"semantic_type\": \"\",\n        \"description\": \"\"\n      }\n    },\n    {\n      \"column\": \"tempo_relaxado_global\",\n      \"properties\": {\n        \"dtype\": \"number\",\n        \"std\": 0.09506981802474779,\n        \"min\": 0.4906985759735107,\n        \"max\": 0.7700936794281006,\n        \"num_unique_values\": 9,\n        \"samples\": [\n          0.5393834114074707,\n          0.5473308563232422,\n          0.5472075939178467\n        ],\n        \"semantic_type\": \"\",\n        \"description\": \"\"\n      }\n    },\n    {\n      \"column\": \"len_original\",\n      \"properties\": {\n        \"dtype\": \"number\",\n        \"std\": 1,\n        \"min\": 40,\n        \"max\": 46,\n        \"num_unique_values\": 4,\n        \"samples\": [\n          44,\n          40,\n          43\n        ],\n        \"semantic_type\": \"\",\n        \"description\": \"\"\n      }\n    },\n    {\n      \"column\": \"len_relaxado\",\n      \"properties\": {\n        \"dtype\": \"number\",\n        \"std\": 5,\n        \"min\": 26,\n        \"max\": 46,\n        \"num_unique_values\": 8,\n        \"samples\": [\n          46,\n          39,\n          35\n        ],\n        \"semantic_type\": \"\",\n        \"description\": \"\"\n      }\n    },\n    {\n      \"column\": \"len_relaxado_global\",\n      \"properties\": {\n        \"dtype\": \"number\",\n        \"std\": 4,\n        \"min\": 29,\n        \"max\": 42,\n        \"num_unique_values\": 6,\n        \"samples\": [\n          33,\n          42,\n          41\n        ],\n        \"semantic_type\": \"\",\n        \"description\": \"\"\n      }\n    },\n    {\n      \"column\": \"delta\",\n      \"properties\": {\n        \"dtype\": \"number\",\n        \"std\": 0.0,\n        \"min\": 0.7,\n        \"max\": 0.7,\n        \"num_unique_values\": 1,\n        \"samples\": [\n          0.7\n        ],\n        \"semantic_type\": \"\",\n        \"description\": \"\"\n      }\n    }\n  ]\n}"
            }
          },
          "metadata": {},
          "execution_count": 380
        }
      ]
    },
    {
      "cell_type": "code",
      "source": [
        "import ast\n",
        "import numpy as np\n",
        "import matplotlib.pyplot as plt\n",
        "import matplotlib.patches as patches\n",
        "\n",
        "def string_to_list(string):\n",
        "    return ast.literal_eval(string)\n",
        "\n",
        "def show_image_with_explanation(ax, df: pd.DataFrame, instancia_index: int, explanation: list, explanation_name: str):\n",
        "    instancia_values = df.iloc[instancia_index, :-1].values\n",
        "    instancia = instancia_values.reshape(8, 8)\n",
        "\n",
        "    ax.imshow(instancia, cmap=\"gray\")\n",
        "\n",
        "    target = df.iloc[instancia_index, -1]\n",
        "    # Adicionar texto com o alvo\n",
        "    ax.text(\n",
        "        0.5, -0.1,\n",
        "        f\"Target: {target}\",\n",
        "        fontsize=12,\n",
        "        ha=\"center\",\n",
        "        transform=ax.transAxes\n",
        "    )\n",
        "\n",
        "    # Pintar retângulos vermelhos nos pixels não explicados\n",
        "    for i in range(8):\n",
        "        for j in range(8):\n",
        "            if (i, j) not in explanation:\n",
        "                rect = patches.Rectangle(\n",
        "                    (j - 0.5, i - 0.5), 1, 1, linewidth=1, edgecolor=\"r\", facecolor=\"r\", alpha=1\n",
        "                )\n",
        "                ax.add_patch(rect)\n",
        "\n",
        "    # Adicionar texto com o nome da explicação e quantidade de pixels\n",
        "    ax.text(\n",
        "        0.5, 1.05,\n",
        "        f\"{explanation_name} ({len(explanation)} pixels)\",\n",
        "        fontsize=12,\n",
        "        ha=\"center\",\n",
        "        transform=ax.transAxes\n",
        "    )\n",
        "\n",
        "# Criar uma figura com 1 linha e 3 colunas para exibir os subplots lado a lado\n",
        "fig, axs = plt.subplots(1, 3, figsize=(15, 5))\n",
        "\n",
        "# Chamar a função show_image_with_explanation para cada subplot\n",
        "index = 8\n",
        "explanation_names = [\"explanation\", \"explanation_relaxed\", \"explanation_relaxed_global\"]\n",
        "for i, ax in enumerate(axs):\n",
        "    explanation_name = explanation_names[i]\n",
        "    show_image_with_explanation(\n",
        "        ax, data, index, string_to_list(result_df.iloc[index][explanation_name]), explanation_name\n",
        "    )\n",
        "\n",
        "plt.show()\n"
      ],
      "metadata": {
        "colab": {
          "base_uri": "https://localhost:8080/",
          "height": 448
        },
        "id": "MvDBGsQLTiZG",
        "outputId": "ffcb9da9-1b95-4ee6-8469-88f62e95cc14"
      },
      "execution_count": 374,
      "outputs": [
        {
          "output_type": "display_data",
          "data": {
            "text/plain": [
              "<Figure size 1500x500 with 3 Axes>"
            ],
            "image/png": "[encoded data removed]"
          },
          "metadata": {}
        }
      ]
    },
    {
      "cell_type": "code",
      "source": [
        "explanation_relaxed = string_to_list(result_df.iloc[index][\"explanation_relaxed\"])\n",
        "explanation_relaxed_global = string_to_list(result_df.iloc[index][\"explanation_relaxed_global\"])\n",
        "\n",
        "elements_only_in_relaxed = set(explanation_relaxed) - set(explanation_relaxed_global)\n",
        "\n",
        "print(\"Elementos apenas em explanation_relaxed:\", elements_only_in_relaxed)\n"
      ],
      "metadata": {
        "colab": {
          "base_uri": "https://localhost:8080/"
        },
        "id": "1EZLAB8OV4vk",
        "outputId": "ce332979-a962-4e6d-dd5c-aed242291107"
      },
      "execution_count": 375,
      "outputs": [
        {
          "output_type": "stream",
          "name": "stdout",
          "text": [
            "Elementos apenas em explanation_relaxed: {(4, 4), (7, 0), (7, 1)}\n"
          ]
        }
      ]
    },
    {
      "cell_type": "code",
      "source": [
        "explanation = string_to_list(result_df.iloc[index][\"explanation\"])\n",
        "explanation_relaxed_global = string_to_list(result_df.iloc[index][\"explanation_relaxed_global\"])\n",
        "\n",
        "elements_only_in_relaxed = set(explanation) - set(explanation_relaxed_global)\n",
        "\n",
        "print(\"Elementos apenas em explanation:\", elements_only_in_relaxed)\n"
      ],
      "metadata": {
        "colab": {
          "base_uri": "https://localhost:8080/"
        },
        "id": "HCQi6LWXY4Ob",
        "outputId": "c161547e-3a18-44ce-d3c2-6951c17fdea1"
      },
      "execution_count": 376,
      "outputs": [
        {
          "output_type": "stream",
          "name": "stdout",
          "text": [
            "Elementos apenas em explanation: {(4, 4), (2, 4), (1, 2), (7, 1), (0, 4), (1, 5), (3, 1), (7, 0), (1, 4), (0, 6), (2, 3), (1, 7), (5, 6), (0, 5), (2, 2)}\n"
          ]
        }
      ]
    }
  ]
}
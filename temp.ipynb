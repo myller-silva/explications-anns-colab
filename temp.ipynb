{
 "cells": [
  {
   "cell_type": "code",
   "execution_count": 5,
   "metadata": {},
   "outputs": [
    {
     "name": "stdout",
     "output_type": "stream",
     "text": [
      "Collecting opencv-python\n",
      "  Downloading opencv_python-4.10.0.84-cp37-abi3-win_amd64.whl.metadata (20 kB)\n",
      "Requirement already satisfied: numpy>=1.21.2 in c:\\users\\mylle\\onedrive\\área de trabalho\\explanations anns colab\\explications-anns-colab\\venv\\lib\\site-packages (from opencv-python) (1.26.4)\n",
      "Downloading opencv_python-4.10.0.84-cp37-abi3-win_amd64.whl (38.8 MB)\n",
      "   ---------------------------------------- 0.0/38.8 MB ? eta -:--:--\n",
      "   ----- ---------------------------------- 5.2/38.8 MB 26.5 MB/s eta 0:00:02\n",
      "   ---------- ----------------------------- 10.0/38.8 MB 24.8 MB/s eta 0:00:02\n",
      "   --------------- ------------------------ 15.2/38.8 MB 25.2 MB/s eta 0:00:01\n",
      "   ---------------------- ----------------- 21.5/38.8 MB 25.6 MB/s eta 0:00:01\n",
      "   ----------------------------- ---------- 28.6/38.8 MB 27.0 MB/s eta 0:00:01\n",
      "   ------------------------------------ --- 35.4/38.8 MB 28.1 MB/s eta 0:00:01\n",
      "   ---------------------------------------  38.8/38.8 MB 28.3 MB/s eta 0:00:01\n",
      "   ---------------------------------------- 38.8/38.8 MB 24.2 MB/s eta 0:00:00\n",
      "Installing collected packages: opencv-python\n",
      "Successfully installed opencv-python-4.10.0.84\n",
      "Note: you may need to restart the kernel to use updated packages.\n"
     ]
    }
   ],
   "source": [
    "%pip install opencv-python\n"
   ]
  },
  {
   "cell_type": "code",
   "execution_count": 7,
   "metadata": {},
   "outputs": [
    {
     "name": "stdout",
     "output_type": "stream",
     "text": [
      "Original shape: (1797, 8, 8)\n",
      "Resized shape: (1797, 4, 4)\n"
     ]
    }
   ],
   "source": [
    "import numpy as np\n",
    "import cv2\n",
    "from sklearn.datasets import load_digits\n",
    "from sklearn.model_selection import train_test_split\n",
    "\n",
    "# Carregue o dataset Digits\n",
    "digits = load_digits()\n",
    "images = digits.images\n",
    "labels = digits.target\n",
    "\n",
    "# Função para redimensionar imagens\n",
    "def resize_images(images, new_size):\n",
    "    resized_images = []\n",
    "    for image in images:\n",
    "        resized_image = cv2.resize(image, new_size, interpolation=cv2.INTER_AREA)\n",
    "        resized_images.append(resized_image)\n",
    "    return np.array(resized_images)\n",
    "\n",
    "# Redimensione as imagens para 16x16 pixels\n",
    "new_size = (4, 4)\n",
    "resized_images = resize_images(images, new_size)\n",
    "\n",
    "# Verifique as novas dimensões\n",
    "print(f\"Original shape: {images.shape}\")\n",
    "print(f\"Resized shape: {resized_images.shape}\")\n",
    "\n",
    "# Divida o dataset em treino e teste\n",
    "X_train, X_test, y_train, y_test = train_test_split(resized_images, labels, test_size=0.3, random_state=42)\n",
    "\n",
    "# Agora X_train e X_test contêm as imagens redimensionadas\n"
   ]
  },
  {
   "cell_type": "code",
   "execution_count": 16,
   "metadata": {},
   "outputs": [
    {
     "name": "stdout",
     "output_type": "stream",
     "text": [
      "Requirement already satisfied: matplotlib in c:\\users\\mylle\\onedrive\\área de trabalho\\explanations anns colab\\explications-anns-colab\\venv\\lib\\site-packages (3.9.1.post1)\n",
      "Requirement already satisfied: contourpy>=1.0.1 in c:\\users\\mylle\\onedrive\\área de trabalho\\explanations anns colab\\explications-anns-colab\\venv\\lib\\site-packages (from matplotlib) (1.2.1)\n",
      "Requirement already satisfied: cycler>=0.10 in c:\\users\\mylle\\onedrive\\área de trabalho\\explanations anns colab\\explications-anns-colab\\venv\\lib\\site-packages (from matplotlib) (0.12.1)\n",
      "Requirement already satisfied: fonttools>=4.22.0 in c:\\users\\mylle\\onedrive\\área de trabalho\\explanations anns colab\\explications-anns-colab\\venv\\lib\\site-packages (from matplotlib) (4.53.1)\n",
      "Requirement already satisfied: kiwisolver>=1.3.1 in c:\\users\\mylle\\onedrive\\área de trabalho\\explanations anns colab\\explications-anns-colab\\venv\\lib\\site-packages (from matplotlib) (1.4.5)\n",
      "Requirement already satisfied: numpy>=1.23 in c:\\users\\mylle\\onedrive\\área de trabalho\\explanations anns colab\\explications-anns-colab\\venv\\lib\\site-packages (from matplotlib) (1.26.4)\n",
      "Requirement already satisfied: packaging>=20.0 in c:\\users\\mylle\\onedrive\\área de trabalho\\explanations anns colab\\explications-anns-colab\\venv\\lib\\site-packages (from matplotlib) (24.1)\n",
      "Requirement already satisfied: pillow>=8 in c:\\users\\mylle\\onedrive\\área de trabalho\\explanations anns colab\\explications-anns-colab\\venv\\lib\\site-packages (from matplotlib) (10.4.0)\n",
      "Requirement already satisfied: pyparsing>=2.3.1 in c:\\users\\mylle\\onedrive\\área de trabalho\\explanations anns colab\\explications-anns-colab\\venv\\lib\\site-packages (from matplotlib) (3.1.2)\n",
      "Requirement already satisfied: python-dateutil>=2.7 in c:\\users\\mylle\\onedrive\\área de trabalho\\explanations anns colab\\explications-anns-colab\\venv\\lib\\site-packages (from matplotlib) (2.9.0.post0)\n",
      "Requirement already satisfied: six>=1.5 in c:\\users\\mylle\\onedrive\\área de trabalho\\explanations anns colab\\explications-anns-colab\\venv\\lib\\site-packages (from python-dateutil>=2.7->matplotlib) (1.16.0)\n",
      "Note: you may need to restart the kernel to use updated packages.\n"
     ]
    },
    {
     "data": {
      "image/png": "[encoded data removed]",
      "text/plain": [
       "<Figure size 640x480 with 1 Axes>"
      ]
     },
     "metadata": {},
     "output_type": "display_data"
    }
   ],
   "source": [
    "#exibir uma imagem\n",
    "%pip install matplotlib\n",
    "import matplotlib.pyplot as plt\n",
    "plt.imshow(images[4], cmap='gray')\n",
    "plt.axis('off')\n",
    "plt.show()"
   ]
  }
 ],
 "metadata": {
  "kernelspec": {
   "display_name": "venv",
   "language": "python",
   "name": "python3"
  },
  "language_info": {
   "codemirror_mode": {
    "name": "ipython",
    "version": 3
   },
   "file_extension": ".py",
   "mimetype": "text/x-python",
   "name": "python",
   "nbconvert_exporter": "python",
   "pygments_lexer": "ipython3",
   "version": "3.11.4"
  }
 },
 "nbformat": 4,
 "nbformat_minor": 2
}

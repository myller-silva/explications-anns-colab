{
 "cells": [
  {
   "cell_type": "code",
   "execution_count": 2,
   "metadata": {},
   "outputs": [],
   "source": [
    "import pandas as pd\n",
    "import numpy as np"
   ]
  },
  {
   "cell_type": "code",
   "execution_count": 3,
   "metadata": {},
   "outputs": [],
   "source": [
    "iris = pd.read_csv('explanations_iris.csv')\n",
    "wine = pd.read_csv('explanations_wine.csv')\n",
    "breast_cancer = pd.read_csv('explanations_breast_cancer.csv')\n",
    "glass = pd.read_csv('explanations_glass.csv')\n",
    "digits = pd.read_csv('explanations_digits.csv')\n",
    "data = pd.concat([iris, wine, breast_cancer, glass, digits], ignore_index=True)"
   ]
  },
  {
   "cell_type": "code",
   "execution_count": 4,
   "metadata": {},
   "outputs": [
    {
     "name": "stdout",
     "output_type": "stream",
     "text": [
      "Médias de cada coluna: [1. 2. 3.]\n",
      "Desvios padrão de cada coluna: [0. 0. 0.]\n"
     ]
    }
   ],
   "source": [
    "import numpy as np\n",
    "\n",
    "# Exemplo de array\n",
    "arr = np.array([[1, 2, 3], [1, 2, 3]])\n",
    "\n",
    "# Calcular a média por coluna\n",
    "mean_values = np.mean(arr, axis=0)\n",
    "\n",
    "# Calcular o desvio padrão por coluna\n",
    "std_values = np.std(arr, axis=0)\n",
    "\n",
    "# Exibir as médias e desvios padrão\n",
    "print(\"Médias de cada coluna:\", mean_values)\n",
    "print(\"Desvios padrão de cada coluna:\", std_values)\n"
   ]
  },
  {
   "cell_type": "code",
   "execution_count": 5,
   "metadata": {},
   "outputs": [
    {
     "name": "stdout",
     "output_type": "stream",
     "text": [
      "[2.49, 2.5, 2.51, 2.51, 2.51, 2.51, 2.52, 2.52, 2.52, 2.52]\n",
      "[1.9312949023906214, 1.9261360284258222, 1.9261100695443134, 1.9261100695443134, 1.9261100695443134, 1.9261100695443134, 1.9312172327317296, 1.9312172327317296, 1.9312172327317296, 1.9312172327317296]\n"
     ]
    }
   ],
   "source": [
    "iris_temp = iris.query('modelo == \"model_1layers_20neurons.h5\"')['len_milp_relaxed']\n",
    "iris_temp = iris_temp.apply(eval)\n",
    "columns = [ 0.1, 0.2, 0.3, 0.4, 0.5, 0.6, 0.7, 0.8, 0.9, 1]\n",
    "df = pd.DataFrame(iris_temp.tolist(), columns=columns)\n",
    "print(np.mean(df, axis=0).to_list())\n",
    "print(np.std(df, axis=0).to_list())"
   ]
  },
  {
   "cell_type": "code",
   "execution_count": 6,
   "metadata": {},
   "outputs": [],
   "source": [
    "def calcular_media_desvio(df: pd.DataFrame, modelo: str, coluna: str = 'time_milp_relaxed'):\n",
    "  df = df.query(f'modelo == \"{modelo}\"')\n",
    "  df_time = df[coluna].apply(eval)\n",
    "  df_time = np.array(df_time.tolist())\n",
    "  # print(array_np)\n",
    "  return df_time.mean(), df_time.std()"
   ]
  },
  {
   "cell_type": "markdown",
   "metadata": {},
   "source": [
    "## Tempo"
   ]
  },
  {
   "cell_type": "code",
   "execution_count": 7,
   "metadata": {},
   "outputs": [
    {
     "name": "stdout",
     "output_type": "stream",
     "text": [
      "(0.037168150424957275, 0.015033589059125345)\n",
      "(0.0498123996257782, 0.02272123159523321)\n",
      "(0.06074064803123474, 0.023735896542091107)\n"
     ]
    }
   ],
   "source": [
    "print(calcular_media_desvio(iris, 'model_1layers_20neurons.h5'))\n",
    "print(calcular_media_desvio(iris, 'model_2layers_20neurons.h5'))\n",
    "print(calcular_media_desvio(iris, 'model_3layers_20neurons.h5'))"
   ]
  },
  {
   "cell_type": "code",
   "execution_count": 8,
   "metadata": {},
   "outputs": [
    {
     "name": "stdout",
     "output_type": "stream",
     "text": [
      "(0.11599235796928406, 0.03159087189265458)\n",
      "(0.1528873062133789, 0.05865334897657784)\n",
      "(0.18974679970741273, 0.06532944797265348)\n"
     ]
    }
   ],
   "source": [
    "print(calcular_media_desvio(wine, 'model_1layers_20neurons.h5'))\n",
    "print(calcular_media_desvio(wine, 'model_2layers_20neurons.h5'))\n",
    "print(calcular_media_desvio(wine, 'model_3layers_20neurons.h5'))"
   ]
  },
  {
   "cell_type": "code",
   "execution_count": 9,
   "metadata": {},
   "outputs": [
    {
     "name": "stdout",
     "output_type": "stream",
     "text": [
      "(0.22882399559020997, 0.04465037316596417)\n",
      "(0.27747759461402893, 0.06167734701011071)\n",
      "(0.293065194606781, 0.07239712428077089)\n"
     ]
    }
   ],
   "source": [
    "print(calcular_media_desvio(breast_cancer, 'model_1layers_20neurons.h5'))\n",
    "print(calcular_media_desvio(breast_cancer, 'model_2layers_20neurons.h5'))\n",
    "print(calcular_media_desvio(breast_cancer, 'model_3layers_20neurons.h5'))"
   ]
  },
  {
   "cell_type": "markdown",
   "metadata": {},
   "source": [
    "## Tamanho da explicação"
   ]
  },
  {
   "cell_type": "code",
   "execution_count": 10,
   "metadata": {},
   "outputs": [
    {
     "name": "stdout",
     "output_type": "stream",
     "text": [
      "(2.511, 1.928698784154747)\n",
      "(2.055, 1.8319320402242)\n",
      "(3.018, 1.5038869638373757)\n"
     ]
    }
   ],
   "source": [
    "print(calcular_media_desvio(iris, 'model_1layers_20neurons.h5', 'len_milp_relaxed'))\n",
    "print(calcular_media_desvio(iris, 'model_2layers_20neurons.h5', 'len_milp_relaxed'))\n",
    "print(calcular_media_desvio(iris, 'model_3layers_20neurons.h5', 'len_milp_relaxed'))"
   ]
  }
 ],
 "metadata": {
  "kernelspec": {
   "display_name": "venv",
   "language": "python",
   "name": "python3"
  },
  "language_info": {
   "codemirror_mode": {
    "name": "ipython",
    "version": 3
   },
   "file_extension": ".py",
   "mimetype": "text/x-python",
   "name": "python",
   "nbconvert_exporter": "python",
   "pygments_lexer": "ipython3",
   "version": "3.11.4"
  }
 },
 "nbformat": 4,
 "nbformat_minor": 2
}
